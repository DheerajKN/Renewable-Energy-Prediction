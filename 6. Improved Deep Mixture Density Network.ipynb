{
 "cells": [
  {
   "cell_type": "markdown",
   "metadata": {},
   "source": [
    "# Improved Deep Mixture Density Network for Regional Wind Power Probabilistic Forecasting"
   ]
  },
  {
   "cell_type": "markdown",
   "metadata": {},
   "source": [
    "## Import all the needed packages"
   ]
  },
  {
   "cell_type": "code",
   "execution_count": 1,
   "metadata": {},
   "outputs": [],
   "source": [
    "# Basic Data Science Packages\n",
    "import numpy as np\n",
    "import pandas as pd\n",
    "\n",
    "#TensorFlow packages for building DRNN layer\n",
    "import tensorflow as tf\n",
    "from tensorflow import keras\n",
    "from tensorflow.keras.layers import SimpleRNN, Dense, Input, Reshape, LSTM, BatchNormalization\n",
    "from tensorflow.keras.models import Sequential\n",
    "\n",
    "#Plotting graph\n",
    "import matplotlib.pyplot as plt\n",
    "\n",
    "#Plotting Keras Model\n",
    "from keras.utils import plot_model\n",
    "\n",
    "#Utility Module for computing and displaying metrics\n",
    "from utility_functions import metrics, import_or_install\n",
    "import_or_install('mdn', 'keras-mdn-layer')\n",
    "\n",
    "import warnings\n",
    "warnings.filterwarnings(\"ignore\")"
   ]
  },
  {
   "cell_type": "markdown",
   "metadata": {},
   "source": [
    "## Import the data and split into Train, Test and Validation\n",
    "- Fetch the first 70% records as train and the rest 15% each as validation and test\n",
    "    - 8711 * 70% = 6097 records from the start (Train)\n",
    "    - 6097 + 1307 = 6098 to 7404 records as (Validation)\n",
    "    - 7404 + 1307 = 7405 to 8711 records as (Test)"
   ]
  },
  {
   "cell_type": "code",
   "execution_count": 2,
   "metadata": {},
   "outputs": [],
   "source": [
    "thesis_dataset = pd.read_csv('data/final_thesis_dataset.csv',parse_dates=[0], index_col=0)\n",
    "\n",
    "#Extracting dataset into train, validation and test sets\n",
    "train = thesis_dataset[:6097]\n",
    "valid = thesis_dataset[6097:7404]\n",
    "test = thesis_dataset[7404:]\n",
    "\n",
    "#Extracting solar and wind X, y columns per set\n",
    "X_solar_train = train[['SWTDN', 'SWGDN', 'T']]\n",
    "y_solar_train = train['DE_solar_generation_actual']\n",
    "X_solar_valid = valid[['SWTDN', 'SWGDN', 'T']]\n",
    "y_solar_valid = valid['DE_solar_generation_actual']\n",
    "X_solar_test = test[['SWTDN', 'SWGDN', 'T']]\n",
    "y_solar_test = test['DE_solar_generation_actual']\n",
    "\n",
    "X_wind_train = train[['v1', 'v2', 'v_50m', 'z0']]\n",
    "y_wind_train = train['DE_wind_generation_actual']\n",
    "X_wind_valid = valid[['v1', 'v2', 'v_50m', 'z0']]\n",
    "y_wind_valid = valid['DE_wind_generation_actual']\n",
    "X_wind_test = test[['v1', 'v2', 'v_50m', 'z0']]\n",
    "y_wind_test = test['DE_wind_generation_actual']"
   ]
  },
  {
   "cell_type": "code",
   "execution_count": null,
   "metadata": {},
   "outputs": [],
   "source": []
  }
 ],
 "metadata": {
  "kernelspec": {
   "display_name": "Python 3",
   "language": "python",
   "name": "python3"
  },
  "language_info": {
   "codemirror_mode": {
    "name": "ipython",
    "version": 3
   },
   "file_extension": ".py",
   "mimetype": "text/x-python",
   "name": "python",
   "nbconvert_exporter": "python",
   "pygments_lexer": "ipython3",
   "version": "3.8.3"
  }
 },
 "nbformat": 4,
 "nbformat_minor": 4
}
