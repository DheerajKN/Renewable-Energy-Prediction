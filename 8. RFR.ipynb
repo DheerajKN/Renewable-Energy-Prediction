{
 "cells": [
  {
   "cell_type": "markdown",
   "metadata": {},
   "source": [
    "# A Two-Step Approach to Solar Power Generation Prediction Based on Weather Data Using Machine Learning"
   ]
  },
  {
   "cell_type": "code",
   "execution_count": 1,
   "metadata": {},
   "outputs": [],
   "source": [
    "# Basic Data Science Packages\n",
    "import numpy as np\n",
    "import pandas as pd\n",
    "\n",
    "#ML scikit learn RFR and HyperParameter Tuner GridSearchCV\n",
    "from sklearn.model_selection import GridSearchCV\n",
    "from sklearn.ensemble import RandomForestRegressor\n",
    "  \n",
    "#Plotting graph\n",
    "import matplotlib.pyplot as plt\n",
    "\n",
    "#Utility Module for computing and displaying metrics\n",
    "from utility_functions import metrics\n",
    "\n",
    "import warnings\n",
    "warnings.filterwarnings(\"ignore\")"
   ]
  },
  {
   "cell_type": "markdown",
   "metadata": {},
   "source": [
    "# Import Data\n",
    "- Fetch the first 70% records as train and rest as test\n",
    "    - 8711 * 70% = 6098 records from the start (Train)\n",
    "    - 8711 - 6098 = 2613 remaining records as (Test)"
   ]
  },
  {
   "cell_type": "code",
   "execution_count": 2,
   "metadata": {},
   "outputs": [],
   "source": [
    "thesis_dataset = pd.read_csv('data/final_thesis_dataset.csv',parse_dates=[0], index_col=0)\n",
    "\n",
    "train = thesis_dataset[:6098] \n",
    "test = thesis_dataset[6098:] \n",
    "\n",
    "X_solar_train = train[['SWTDN', 'SWGDN', 'T']]\n",
    "y_solar_train = train['DE_solar_generation_actual']\n",
    "X_solar_test = test[['SWTDN', 'SWGDN', 'T']]\n",
    "y_solar_test = test['DE_solar_generation_actual']\n",
    "\n",
    "X_wind_train = train[['v1', 'v2', 'v_50m', 'z0']]\n",
    "y_wind_train = train['DE_wind_generation_actual']\n",
    "X_wind_test = test[['v1', 'v2', 'v_50m', 'z0']]\n",
    "y_wind_test = test['DE_wind_generation_actual']"
   ]
  },
  {
   "cell_type": "markdown",
   "metadata": {},
   "source": [
    "## Collating a dictionary of the suitable parameter value for the GridSearch to find optimal settings"
   ]
  },
  {
   "cell_type": "code",
   "execution_count": 3,
   "metadata": {},
   "outputs": [
    {
     "name": "stdout",
     "output_type": "stream",
     "text": [
      "Fitting 3 folds for each of 30 candidates, totalling 90 fits\n",
      "[CV] bootstrap=True, max_depth=5, max_features=auto, n_estimators=5 ..\n",
      "[CV]  bootstrap=True, max_depth=5, max_features=auto, n_estimators=5, score=(train=0.972, test=0.891), total=   0.0s\n",
      "[CV] bootstrap=True, max_depth=5, max_features=auto, n_estimators=5 ..\n",
      "[CV]  bootstrap=True, max_depth=5, max_features=auto, n_estimators=5, score=(train=0.972, test=0.951), total=   0.0s\n",
      "[CV] bootstrap=True, max_depth=5, max_features=auto, n_estimators=5 ..\n",
      "[CV]  bootstrap=True, max_depth=5, max_features=auto, n_estimators=5, score=(train=0.964, test=0.961), total=   0.0s\n",
      "[CV] bootstrap=True, max_depth=5, max_features=auto, n_estimators=6 ..\n",
      "[CV]  bootstrap=True, max_depth=5, max_features=auto, n_estimators=6, score=(train=0.973, test=0.891), total=   0.0s\n",
      "[CV] bootstrap=True, max_depth=5, max_features=auto, n_estimators=6 ..\n",
      "[CV]  bootstrap=True, max_depth=5, max_features=auto, n_estimators=6, score=(train=0.972, test=0.951), total=   0.0s\n",
      "[CV] bootstrap=True, max_depth=5, max_features=auto, n_estimators=6 ..\n",
      "[CV]  bootstrap=True, max_depth=5, max_features=auto, n_estimators=6, score=(train=0.964, test=0.961), total=   0.0s"
     ]
    },
    {
     "name": "stderr",
     "output_type": "stream",
     "text": [
      "[Parallel(n_jobs=1)]: Using backend SequentialBackend with 1 concurrent workers.\n",
      "[Parallel(n_jobs=1)]: Done   1 out of   1 | elapsed:    0.0s remaining:    0.0s\n",
      "[Parallel(n_jobs=1)]: Done   2 out of   2 | elapsed:    0.0s remaining:    0.0s\n"
     ]
    },
    {
     "name": "stdout",
     "output_type": "stream",
     "text": [
      "\n",
      "[CV] bootstrap=True, max_depth=5, max_features=auto, n_estimators=10 .\n",
      "[CV]  bootstrap=True, max_depth=5, max_features=auto, n_estimators=10, score=(train=0.973, test=0.891), total=   0.0s\n",
      "[CV] bootstrap=True, max_depth=5, max_features=auto, n_estimators=10 .\n",
      "[CV]  bootstrap=True, max_depth=5, max_features=auto, n_estimators=10, score=(train=0.972, test=0.952), total=   0.0s\n",
      "[CV] bootstrap=True, max_depth=5, max_features=auto, n_estimators=10 .\n",
      "[CV]  bootstrap=True, max_depth=5, max_features=auto, n_estimators=10, score=(train=0.964, test=0.961), total=   0.0s\n",
      "[CV] bootstrap=True, max_depth=5, max_features=auto, n_estimators=11 .\n",
      "[CV]  bootstrap=True, max_depth=5, max_features=auto, n_estimators=11, score=(train=0.973, test=0.891), total=   0.0s\n",
      "[CV] bootstrap=True, max_depth=5, max_features=auto, n_estimators=11 .\n",
      "[CV]  bootstrap=True, max_depth=5, max_features=auto, n_estimators=11, score=(train=0.972, test=0.952), total=   0.0s\n",
      "[CV] bootstrap=True, max_depth=5, max_features=auto, n_estimators=11 .\n",
      "[CV]  bootstrap=True, max_depth=5, max_features=auto, n_estimators=11, score=(train=0.964, test=0.961), total=   0.0s\n",
      "[CV] bootstrap=True, max_depth=5, max_features=auto, n_estimators=15 .\n",
      "[CV]  bootstrap=True, max_depth=5, max_features=auto, n_estimators=15, score=(train=0.973, test=0.891), total=   0.1s\n",
      "[CV] bootstrap=True, max_depth=5, max_features=auto, n_estimators=15 .\n",
      "[CV]  bootstrap=True, max_depth=5, max_features=auto, n_estimators=15, score=(train=0.973, test=0.951), total=   0.1s\n",
      "[CV] bootstrap=True, max_depth=5, max_features=auto, n_estimators=15 .\n",
      "[CV]  bootstrap=True, max_depth=5, max_features=auto, n_estimators=15, score=(train=0.965, test=0.961), total=   0.1s\n",
      "[CV] bootstrap=True, max_depth=5, max_features=log2, n_estimators=5 ..\n",
      "[CV]  bootstrap=True, max_depth=5, max_features=log2, n_estimators=5, score=(train=0.958, test=0.873), total=   0.0s\n",
      "[CV] bootstrap=True, max_depth=5, max_features=log2, n_estimators=5 ..\n",
      "[CV]  bootstrap=True, max_depth=5, max_features=log2, n_estimators=5, score=(train=0.962, test=0.932), total=   0.0s\n",
      "[CV] bootstrap=True, max_depth=5, max_features=log2, n_estimators=5 ..\n",
      "[CV]  bootstrap=True, max_depth=5, max_features=log2, n_estimators=5, score=(train=0.950, test=0.955), total=   0.0s\n",
      "[CV] bootstrap=True, max_depth=5, max_features=log2, n_estimators=6 ..\n",
      "[CV]  bootstrap=True, max_depth=5, max_features=log2, n_estimators=6, score=(train=0.958, test=0.872), total=   0.0s\n",
      "[CV] bootstrap=True, max_depth=5, max_features=log2, n_estimators=6 ..\n",
      "[CV]  bootstrap=True, max_depth=5, max_features=log2, n_estimators=6, score=(train=0.963, test=0.932), total=   0.0s\n",
      "[CV] bootstrap=True, max_depth=5, max_features=log2, n_estimators=6 ..\n",
      "[CV]  bootstrap=True, max_depth=5, max_features=log2, n_estimators=6, score=(train=0.949, test=0.958), total=   0.0s\n",
      "[CV] bootstrap=True, max_depth=5, max_features=log2, n_estimators=10 .\n",
      "[CV]  bootstrap=True, max_depth=5, max_features=log2, n_estimators=10, score=(train=0.961, test=0.873), total=   0.0s\n",
      "[CV] bootstrap=True, max_depth=5, max_features=log2, n_estimators=10 .\n",
      "[CV]  bootstrap=True, max_depth=5, max_features=log2, n_estimators=10, score=(train=0.963, test=0.935), total=   0.0s\n",
      "[CV] bootstrap=True, max_depth=5, max_features=log2, n_estimators=10 .\n",
      "[CV]  bootstrap=True, max_depth=5, max_features=log2, n_estimators=10, score=(train=0.951, test=0.958), total=   0.0s\n",
      "[CV] bootstrap=True, max_depth=5, max_features=log2, n_estimators=11 .\n",
      "[CV]  bootstrap=True, max_depth=5, max_features=log2, n_estimators=11, score=(train=0.957, test=0.874), total=   0.0s\n",
      "[CV] bootstrap=True, max_depth=5, max_features=log2, n_estimators=11 .\n",
      "[CV]  bootstrap=True, max_depth=5, max_features=log2, n_estimators=11, score=(train=0.962, test=0.931), total=   0.0s\n",
      "[CV] bootstrap=True, max_depth=5, max_features=log2, n_estimators=11 .\n",
      "[CV]  bootstrap=True, max_depth=5, max_features=log2, n_estimators=11, score=(train=0.949, test=0.957), total=   0.0s\n",
      "[CV] bootstrap=True, max_depth=5, max_features=log2, n_estimators=15 .\n",
      "[CV]  bootstrap=True, max_depth=5, max_features=log2, n_estimators=15, score=(train=0.958, test=0.868), total=   0.0s\n",
      "[CV] bootstrap=True, max_depth=5, max_features=log2, n_estimators=15 .\n",
      "[CV]  bootstrap=True, max_depth=5, max_features=log2, n_estimators=15, score=(train=0.961, test=0.924), total=   0.0s\n",
      "[CV] bootstrap=True, max_depth=5, max_features=log2, n_estimators=15 .\n",
      "[CV]  bootstrap=True, max_depth=5, max_features=log2, n_estimators=15, score=(train=0.948, test=0.955), total=   0.0s\n",
      "[CV] bootstrap=True, max_depth=10, max_features=auto, n_estimators=5 .\n",
      "[CV]  bootstrap=True, max_depth=10, max_features=auto, n_estimators=5, score=(train=0.986, test=0.871), total=   0.0s\n",
      "[CV] bootstrap=True, max_depth=10, max_features=auto, n_estimators=5 .\n",
      "[CV]  bootstrap=True, max_depth=10, max_features=auto, n_estimators=5, score=(train=0.989, test=0.943), total=   0.0s\n",
      "[CV] bootstrap=True, max_depth=10, max_features=auto, n_estimators=5 .\n",
      "[CV]  bootstrap=True, max_depth=10, max_features=auto, n_estimators=5, score=(train=0.984, test=0.965), total=   0.0s\n",
      "[CV] bootstrap=True, max_depth=10, max_features=auto, n_estimators=6 .\n",
      "[CV]  bootstrap=True, max_depth=10, max_features=auto, n_estimators=6, score=(train=0.986, test=0.871), total=   0.0s\n",
      "[CV] bootstrap=True, max_depth=10, max_features=auto, n_estimators=6 .\n",
      "[CV]  bootstrap=True, max_depth=10, max_features=auto, n_estimators=6, score=(train=0.990, test=0.947), total=   0.1s\n",
      "[CV] bootstrap=True, max_depth=10, max_features=auto, n_estimators=6 .\n",
      "[CV]  bootstrap=True, max_depth=10, max_features=auto, n_estimators=6, score=(train=0.984, test=0.965), total=   0.0s\n",
      "[CV] bootstrap=True, max_depth=10, max_features=auto, n_estimators=10 \n",
      "[CV]  bootstrap=True, max_depth=10, max_features=auto, n_estimators=10, score=(train=0.988, test=0.871), total=   0.1s\n",
      "[CV] bootstrap=True, max_depth=10, max_features=auto, n_estimators=10 \n",
      "[CV]  bootstrap=True, max_depth=10, max_features=auto, n_estimators=10, score=(train=0.991, test=0.950), total=   0.1s\n",
      "[CV] bootstrap=True, max_depth=10, max_features=auto, n_estimators=10 \n",
      "[CV]  bootstrap=True, max_depth=10, max_features=auto, n_estimators=10, score=(train=0.985, test=0.965), total=   0.1s\n",
      "[CV] bootstrap=True, max_depth=10, max_features=auto, n_estimators=11 \n",
      "[CV]  bootstrap=True, max_depth=10, max_features=auto, n_estimators=11, score=(train=0.988, test=0.873), total=   0.1s\n",
      "[CV] bootstrap=True, max_depth=10, max_features=auto, n_estimators=11 \n",
      "[CV]  bootstrap=True, max_depth=10, max_features=auto, n_estimators=11, score=(train=0.991, test=0.950), total=   0.1s\n",
      "[CV] bootstrap=True, max_depth=10, max_features=auto, n_estimators=11 \n",
      "[CV]  bootstrap=True, max_depth=10, max_features=auto, n_estimators=11, score=(train=0.985, test=0.966), total=   0.1s\n",
      "[CV] bootstrap=True, max_depth=10, max_features=auto, n_estimators=15 \n",
      "[CV]  bootstrap=True, max_depth=10, max_features=auto, n_estimators=15, score=(train=0.988, test=0.876), total=   0.1s\n",
      "[CV] bootstrap=True, max_depth=10, max_features=auto, n_estimators=15 \n",
      "[CV]  bootstrap=True, max_depth=10, max_features=auto, n_estimators=15, score=(train=0.991, test=0.950), total=   0.1s\n",
      "[CV] bootstrap=True, max_depth=10, max_features=auto, n_estimators=15 \n",
      "[CV]  bootstrap=True, max_depth=10, max_features=auto, n_estimators=15, score=(train=0.986, test=0.965), total=   0.1s\n",
      "[CV] bootstrap=True, max_depth=10, max_features=log2, n_estimators=5 .\n",
      "[CV]  bootstrap=True, max_depth=10, max_features=log2, n_estimators=5, score=(train=0.983, test=0.888), total=   0.0s\n",
      "[CV] bootstrap=True, max_depth=10, max_features=log2, n_estimators=5 .\n",
      "[CV]  bootstrap=True, max_depth=10, max_features=log2, n_estimators=5, score=(train=0.986, test=0.948), total=   0.0s\n",
      "[CV] bootstrap=True, max_depth=10, max_features=log2, n_estimators=5 .\n",
      "[CV]  bootstrap=True, max_depth=10, max_features=log2, n_estimators=5, score=(train=0.978, test=0.954), total=   0.0s\n",
      "[CV] bootstrap=True, max_depth=10, max_features=log2, n_estimators=6 .\n",
      "[CV]  bootstrap=True, max_depth=10, max_features=log2, n_estimators=6, score=(train=0.984, test=0.889), total=   0.0s\n",
      "[CV] bootstrap=True, max_depth=10, max_features=log2, n_estimators=6 .\n",
      "[CV]  bootstrap=True, max_depth=10, max_features=log2, n_estimators=6, score=(train=0.986, test=0.950), total=   0.0s\n",
      "[CV] bootstrap=True, max_depth=10, max_features=log2, n_estimators=6 .\n",
      "[CV]  bootstrap=True, max_depth=10, max_features=log2, n_estimators=6, score=(train=0.979, test=0.956), total=   0.0s\n",
      "[CV] bootstrap=True, max_depth=10, max_features=log2, n_estimators=10 \n",
      "[CV]  bootstrap=True, max_depth=10, max_features=log2, n_estimators=10, score=(train=0.985, test=0.887), total=   0.0s\n",
      "[CV] bootstrap=True, max_depth=10, max_features=log2, n_estimators=10 \n",
      "[CV]  bootstrap=True, max_depth=10, max_features=log2, n_estimators=10, score=(train=0.987, test=0.947), total=   0.0s\n",
      "[CV] bootstrap=True, max_depth=10, max_features=log2, n_estimators=10 \n"
     ]
    },
    {
     "name": "stdout",
     "output_type": "stream",
     "text": [
      "[CV]  bootstrap=True, max_depth=10, max_features=log2, n_estimators=10, score=(train=0.980, test=0.954), total=   0.0s\n",
      "[CV] bootstrap=True, max_depth=10, max_features=log2, n_estimators=11 \n",
      "[CV]  bootstrap=True, max_depth=10, max_features=log2, n_estimators=11, score=(train=0.985, test=0.888), total=   0.0s\n",
      "[CV] bootstrap=True, max_depth=10, max_features=log2, n_estimators=11 \n",
      "[CV]  bootstrap=True, max_depth=10, max_features=log2, n_estimators=11, score=(train=0.987, test=0.948), total=   0.0s\n",
      "[CV] bootstrap=True, max_depth=10, max_features=log2, n_estimators=11 \n",
      "[CV]  bootstrap=True, max_depth=10, max_features=log2, n_estimators=11, score=(train=0.980, test=0.956), total=   0.0s\n",
      "[CV] bootstrap=True, max_depth=10, max_features=log2, n_estimators=15 \n",
      "[CV]  bootstrap=True, max_depth=10, max_features=log2, n_estimators=15, score=(train=0.986, test=0.890), total=   0.0s\n",
      "[CV] bootstrap=True, max_depth=10, max_features=log2, n_estimators=15 \n",
      "[CV]  bootstrap=True, max_depth=10, max_features=log2, n_estimators=15, score=(train=0.987, test=0.946), total=   0.0s\n",
      "[CV] bootstrap=True, max_depth=10, max_features=log2, n_estimators=15 \n",
      "[CV]  bootstrap=True, max_depth=10, max_features=log2, n_estimators=15, score=(train=0.981, test=0.955), total=   0.0s\n",
      "[CV] bootstrap=True, max_depth=None, max_features=auto, n_estimators=5 \n",
      "[CV]  bootstrap=True, max_depth=None, max_features=auto, n_estimators=5, score=(train=0.992, test=0.870), total=   0.0s\n",
      "[CV] bootstrap=True, max_depth=None, max_features=auto, n_estimators=5 \n",
      "[CV]  bootstrap=True, max_depth=None, max_features=auto, n_estimators=5, score=(train=0.992, test=0.940), total=   0.0s\n",
      "[CV] bootstrap=True, max_depth=None, max_features=auto, n_estimators=5 \n",
      "[CV]  bootstrap=True, max_depth=None, max_features=auto, n_estimators=5, score=(train=0.991, test=0.963), total=   0.0s\n",
      "[CV] bootstrap=True, max_depth=None, max_features=auto, n_estimators=6 \n",
      "[CV]  bootstrap=True, max_depth=None, max_features=auto, n_estimators=6, score=(train=0.993, test=0.870), total=   0.0s\n",
      "[CV] bootstrap=True, max_depth=None, max_features=auto, n_estimators=6 \n",
      "[CV]  bootstrap=True, max_depth=None, max_features=auto, n_estimators=6, score=(train=0.993, test=0.942), total=   0.0s\n",
      "[CV] bootstrap=True, max_depth=None, max_features=auto, n_estimators=6 \n",
      "[CV]  bootstrap=True, max_depth=None, max_features=auto, n_estimators=6, score=(train=0.991, test=0.964), total=   0.0s\n",
      "[CV] bootstrap=True, max_depth=None, max_features=auto, n_estimators=10 \n",
      "[CV]  bootstrap=True, max_depth=None, max_features=auto, n_estimators=10, score=(train=0.995, test=0.871), total=   0.1s\n",
      "[CV] bootstrap=True, max_depth=None, max_features=auto, n_estimators=10 \n",
      "[CV]  bootstrap=True, max_depth=None, max_features=auto, n_estimators=10, score=(train=0.994, test=0.949), total=   0.1s\n",
      "[CV] bootstrap=True, max_depth=None, max_features=auto, n_estimators=10 \n",
      "[CV]  bootstrap=True, max_depth=None, max_features=auto, n_estimators=10, score=(train=0.993, test=0.964), total=   0.1s\n",
      "[CV] bootstrap=True, max_depth=None, max_features=auto, n_estimators=11 \n",
      "[CV]  bootstrap=True, max_depth=None, max_features=auto, n_estimators=11, score=(train=0.995, test=0.872), total=   0.1s\n",
      "[CV] bootstrap=True, max_depth=None, max_features=auto, n_estimators=11 \n",
      "[CV]  bootstrap=True, max_depth=None, max_features=auto, n_estimators=11, score=(train=0.994, test=0.948), total=   0.1s\n",
      "[CV] bootstrap=True, max_depth=None, max_features=auto, n_estimators=11 \n",
      "[CV]  bootstrap=True, max_depth=None, max_features=auto, n_estimators=11, score=(train=0.993, test=0.964), total=   0.1s\n",
      "[CV] bootstrap=True, max_depth=None, max_features=auto, n_estimators=15 \n",
      "[CV]  bootstrap=True, max_depth=None, max_features=auto, n_estimators=15, score=(train=0.995, test=0.876), total=   0.1s\n",
      "[CV] bootstrap=True, max_depth=None, max_features=auto, n_estimators=15 \n",
      "[CV]  bootstrap=True, max_depth=None, max_features=auto, n_estimators=15, score=(train=0.995, test=0.947), total=   0.1s\n",
      "[CV] bootstrap=True, max_depth=None, max_features=auto, n_estimators=15 \n",
      "[CV]  bootstrap=True, max_depth=None, max_features=auto, n_estimators=15, score=(train=0.993, test=0.964), total=   0.1s\n",
      "[CV] bootstrap=True, max_depth=None, max_features=log2, n_estimators=5 \n",
      "[CV]  bootstrap=True, max_depth=None, max_features=log2, n_estimators=5, score=(train=0.992, test=0.873), total=   0.0s\n",
      "[CV] bootstrap=True, max_depth=None, max_features=log2, n_estimators=5 \n",
      "[CV]  bootstrap=True, max_depth=None, max_features=log2, n_estimators=5, score=(train=0.991, test=0.937), total=   0.0s\n",
      "[CV] bootstrap=True, max_depth=None, max_features=log2, n_estimators=5 \n",
      "[CV]  bootstrap=True, max_depth=None, max_features=log2, n_estimators=5, score=(train=0.989, test=0.959), total=   0.0s\n",
      "[CV] bootstrap=True, max_depth=None, max_features=log2, n_estimators=6 \n",
      "[CV]  bootstrap=True, max_depth=None, max_features=log2, n_estimators=6, score=(train=0.993, test=0.874), total=   0.0s\n",
      "[CV] bootstrap=True, max_depth=None, max_features=log2, n_estimators=6 \n",
      "[CV]  bootstrap=True, max_depth=None, max_features=log2, n_estimators=6, score=(train=0.992, test=0.938), total=   0.0s\n",
      "[CV] bootstrap=True, max_depth=None, max_features=log2, n_estimators=6 \n",
      "[CV]  bootstrap=True, max_depth=None, max_features=log2, n_estimators=6, score=(train=0.990, test=0.958), total=   0.0s\n",
      "[CV] bootstrap=True, max_depth=None, max_features=log2, n_estimators=10 \n",
      "[CV]  bootstrap=True, max_depth=None, max_features=log2, n_estimators=10, score=(train=0.994, test=0.879), total=   0.0s\n",
      "[CV] bootstrap=True, max_depth=None, max_features=log2, n_estimators=10 \n",
      "[CV]  bootstrap=True, max_depth=None, max_features=log2, n_estimators=10, score=(train=0.993, test=0.942), total=   0.0s\n",
      "[CV] bootstrap=True, max_depth=None, max_features=log2, n_estimators=10 \n",
      "[CV]  bootstrap=True, max_depth=None, max_features=log2, n_estimators=10, score=(train=0.992, test=0.959), total=   0.0s\n",
      "[CV] bootstrap=True, max_depth=None, max_features=log2, n_estimators=11 \n",
      "[CV]  bootstrap=True, max_depth=None, max_features=log2, n_estimators=11, score=(train=0.995, test=0.881), total=   0.0s\n",
      "[CV] bootstrap=True, max_depth=None, max_features=log2, n_estimators=11 \n",
      "[CV]  bootstrap=True, max_depth=None, max_features=log2, n_estimators=11, score=(train=0.993, test=0.943), total=   0.0s\n",
      "[CV] bootstrap=True, max_depth=None, max_features=log2, n_estimators=11 \n",
      "[CV]  bootstrap=True, max_depth=None, max_features=log2, n_estimators=11, score=(train=0.992, test=0.959), total=   0.0s\n",
      "[CV] bootstrap=True, max_depth=None, max_features=log2, n_estimators=15 \n",
      "[CV]  bootstrap=True, max_depth=None, max_features=log2, n_estimators=15, score=(train=0.995, test=0.882), total=   0.1s\n",
      "[CV] bootstrap=True, max_depth=None, max_features=log2, n_estimators=15 \n",
      "[CV]  bootstrap=True, max_depth=None, max_features=log2, n_estimators=15, score=(train=0.994, test=0.942), total=   0.1s\n",
      "[CV] bootstrap=True, max_depth=None, max_features=log2, n_estimators=15 \n",
      "[CV]  bootstrap=True, max_depth=None, max_features=log2, n_estimators=15, score=(train=0.993, test=0.957), total=   0.1s\n"
     ]
    },
    {
     "name": "stderr",
     "output_type": "stream",
     "text": [
      "[Parallel(n_jobs=1)]: Done  90 out of  90 | elapsed:    4.3s finished\n"
     ]
    },
    {
     "data": {
      "text/plain": [
       "GridSearchCV(cv=3, estimator=RandomForestRegressor(random_state=1), n_jobs=1,\n",
       "             param_grid={'bootstrap': [True], 'max_depth': [5, 10, None],\n",
       "                         'max_features': ['auto', 'log2'],\n",
       "                         'n_estimators': [5, 6, 10, 11, 15]},\n",
       "             return_train_score=True, verbose=3)"
      ]
     },
     "execution_count": 3,
     "metadata": {},
     "output_type": "execute_result"
    }
   ],
   "source": [
    "param_grid = {  \n",
    "    'bootstrap': [True], \n",
    "    'max_depth': [5, 10, None], \n",
    "    'max_features': ['auto', 'log2'], \n",
    "    'n_estimators': [5, 6, 10, 11, 15]\n",
    "}\n",
    "\n",
    "rfr = RandomForestRegressor(random_state = 1)\n",
    "\n",
    "grid = GridSearchCV(estimator = rfr, param_grid = param_grid, \n",
    "                          cv = 3, n_jobs = 1, verbose = 3, return_train_score=True)\n",
    "\n",
    "grid.fit(X_solar_train, y_solar_train)"
   ]
  },
  {
   "cell_type": "code",
   "execution_count": 4,
   "metadata": {},
   "outputs": [
    {
     "name": "stdout",
     "output_type": "stream",
     "text": [
      "{'bootstrap': True, 'max_depth': 5, 'max_features': 'auto', 'n_estimators': 15}\n",
      "RandomForestRegressor(max_depth=5, n_estimators=15, random_state=1)\n"
     ]
    }
   ],
   "source": [
    "# print best parameter after tuning\n",
    "print(grid.best_params_)\n",
    "  \n",
    "# print how our model looks after hyper-parameter tuning\n",
    "print(grid.best_estimator_)"
   ]
  },
  {
   "cell_type": "markdown",
   "metadata": {},
   "source": [
    "## Running predictions on the best model decided and Plotting them side by side"
   ]
  },
  {
   "cell_type": "code",
   "execution_count": 5,
   "metadata": {},
   "outputs": [
    {
     "data": {
      "image/png": "[encoded data removed]",
      "text/plain": [
       "<Figure size 432x288 with 1 Axes>"
      ]
     },
     "metadata": {
      "needs_background": "light"
     },
     "output_type": "display_data"
    }
   ],
   "source": [
    "train_solar_pred = grid.predict(X_solar_train)\n",
    "test_solar_pred = grid.predict(X_solar_test)\n",
    "\n",
    "df = thesis_dataset[['DE_solar_generation_actual']]\n",
    "\n",
    "train_df = train[['DE_solar_generation_actual']]\n",
    "train_df.loc[:, 'DE_solar_generation_actual'] = train_solar_pred\n",
    "\n",
    "test_df = test[['DE_solar_generation_actual']]\n",
    "test_df.loc[:, 'DE_solar_generation_actual'] = test_solar_pred\n",
    "\n",
    "# Plot all predictions\n",
    "inversetransform, =plt.plot(df, label = 'Actual')\n",
    "trainpredx, =plt.plot(train_df, color='orange', label = 'Train')\n",
    "testpredx, =plt.plot(test_df, color='green', label = 'Test')\n",
    "plt.xlabel('Date')\n",
    "plt.ylabel('Solar Output')\n",
    "plt.legend(loc=\"upper right\")\n",
    "plt.title(\"Predicted vs. Actual Solar Generation\")\n",
    "plt.show()"
   ]
  },
  {
   "cell_type": "markdown",
   "metadata": {},
   "source": [
    "## Regression Metrics for Solar Data"
   ]
  },
  {
   "cell_type": "code",
   "execution_count": 6,
   "metadata": {},
   "outputs": [
    {
     "data": {
      "text/html": [
       "<div>\n",
       "<style scoped>\n",
       "    .dataframe tbody tr th:only-of-type {\n",
       "        vertical-align: middle;\n",
       "    }\n",
       "\n",
       "    .dataframe tbody tr th {\n",
       "        vertical-align: top;\n",
       "    }\n",
       "\n",
       "    .dataframe thead th {\n",
       "        text-align: right;\n",
       "    }\n",
       "</style>\n",
       "<table border=\"1\" class=\"dataframe\">\n",
       "  <thead>\n",
       "    <tr style=\"text-align: right;\">\n",
       "      <th></th>\n",
       "      <th>MAE</th>\n",
       "      <th>MSE</th>\n",
       "      <th>RMSE</th>\n",
       "      <th>RMSLE</th>\n",
       "      <th>R2</th>\n",
       "    </tr>\n",
       "    <tr>\n",
       "      <th>model</th>\n",
       "      <th></th>\n",
       "      <th></th>\n",
       "      <th></th>\n",
       "      <th></th>\n",
       "      <th></th>\n",
       "    </tr>\n",
       "  </thead>\n",
       "  <tbody>\n",
       "    <tr>\n",
       "      <th>rfr</th>\n",
       "      <td>503.531115</td>\n",
       "      <td>1166.470082</td>\n",
       "      <td>34.153625</td>\n",
       "      <td>3.530869</td>\n",
       "      <td>0.918342</td>\n",
       "    </tr>\n",
       "  </tbody>\n",
       "</table>\n",
       "</div>"
      ],
      "text/plain": [
       "              MAE          MSE       RMSE     RMSLE        R2\n",
       "model                                                        \n",
       "rfr    503.531115  1166.470082  34.153625  3.530869  0.918342"
      ]
     },
     "execution_count": 6,
     "metadata": {},
     "output_type": "execute_result"
    }
   ],
   "source": [
    "metrics('rfr', test[['DE_solar_generation_actual']], test_solar_pred)"
   ]
  },
  {
   "cell_type": "markdown",
   "metadata": {},
   "source": [
    "# Performing the same tuning for Wind Data"
   ]
  },
  {
   "cell_type": "code",
   "execution_count": 7,
   "metadata": {},
   "outputs": [
    {
     "name": "stdout",
     "output_type": "stream",
     "text": [
      "Fitting 3 folds for each of 36 candidates, totalling 108 fits\n",
      "[CV] bootstrap=True, max_depth=5, max_features=auto, n_estimators=5 ..\n",
      "[CV]  bootstrap=True, max_depth=5, max_features=auto, n_estimators=5, score=(train=0.929, test=0.881), total=   0.0s\n",
      "[CV] bootstrap=True, max_depth=5, max_features=auto, n_estimators=5 ..\n",
      "[CV]  bootstrap=True, max_depth=5, max_features=auto, n_estimators=5, score=(train=0.947, test=0.904), total=   0.0s\n",
      "[CV] bootstrap=True, max_depth=5, max_features=auto, n_estimators=5 ..\n",
      "[CV]  bootstrap=True, max_depth=5, max_features=auto, n_estimators=5, score=(train=0.943, test=0.875), total=   0.0s\n",
      "[CV] bootstrap=True, max_depth=5, max_features=auto, n_estimators=6 ..\n",
      "[CV]  bootstrap=True, max_depth=5, max_features=auto, n_estimators=6, score=(train=0.929, test=0.882), total=   0.0s\n",
      "[CV] bootstrap=True, max_depth=5, max_features=auto, n_estimators=6 ..\n",
      "[CV]  bootstrap=True, max_depth=5, max_features=auto, n_estimators=6, score=(train=0.947, test=0.903), total=   0.0s\n",
      "[CV] bootstrap=True, max_depth=5, max_features=auto, n_estimators=6 ..\n"
     ]
    },
    {
     "name": "stderr",
     "output_type": "stream",
     "text": [
      "[Parallel(n_jobs=1)]: Using backend SequentialBackend with 1 concurrent workers.\n",
      "[Parallel(n_jobs=1)]: Done   1 out of   1 | elapsed:    0.0s remaining:    0.0s\n",
      "[Parallel(n_jobs=1)]: Done   2 out of   2 | elapsed:    0.0s remaining:    0.0s\n"
     ]
    },
    {
     "name": "stdout",
     "output_type": "stream",
     "text": [
      "[CV]  bootstrap=True, max_depth=5, max_features=auto, n_estimators=6, score=(train=0.944, test=0.873), total=   0.0s\n",
      "[CV] bootstrap=True, max_depth=5, max_features=auto, n_estimators=7 ..\n",
      "[CV]  bootstrap=True, max_depth=5, max_features=auto, n_estimators=7, score=(train=0.929, test=0.885), total=   0.0s\n",
      "[CV] bootstrap=True, max_depth=5, max_features=auto, n_estimators=7 ..\n",
      "[CV]  bootstrap=True, max_depth=5, max_features=auto, n_estimators=7, score=(train=0.947, test=0.904), total=   0.0s\n",
      "[CV] bootstrap=True, max_depth=5, max_features=auto, n_estimators=7 ..\n",
      "[CV]  bootstrap=True, max_depth=5, max_features=auto, n_estimators=7, score=(train=0.945, test=0.873), total=   0.0s\n",
      "[CV] bootstrap=True, max_depth=5, max_features=auto, n_estimators=8 ..\n",
      "[CV]  bootstrap=True, max_depth=5, max_features=auto, n_estimators=8, score=(train=0.929, test=0.885), total=   0.0s\n",
      "[CV] bootstrap=True, max_depth=5, max_features=auto, n_estimators=8 ..\n",
      "[CV]  bootstrap=True, max_depth=5, max_features=auto, n_estimators=8, score=(train=0.947, test=0.902), total=   0.0s\n",
      "[CV] bootstrap=True, max_depth=5, max_features=auto, n_estimators=8 ..\n",
      "[CV]  bootstrap=True, max_depth=5, max_features=auto, n_estimators=8, score=(train=0.945, test=0.872), total=   0.0s\n",
      "[CV] bootstrap=True, max_depth=5, max_features=auto, n_estimators=9 ..\n",
      "[CV]  bootstrap=True, max_depth=5, max_features=auto, n_estimators=9, score=(train=0.929, test=0.885), total=   0.0s\n",
      "[CV] bootstrap=True, max_depth=5, max_features=auto, n_estimators=9 ..\n",
      "[CV]  bootstrap=True, max_depth=5, max_features=auto, n_estimators=9, score=(train=0.947, test=0.901), total=   0.1s\n",
      "[CV] bootstrap=True, max_depth=5, max_features=auto, n_estimators=9 ..\n",
      "[CV]  bootstrap=True, max_depth=5, max_features=auto, n_estimators=9, score=(train=0.945, test=0.870), total=   0.1s\n",
      "[CV] bootstrap=True, max_depth=5, max_features=auto, n_estimators=10 .\n",
      "[CV]  bootstrap=True, max_depth=5, max_features=auto, n_estimators=10, score=(train=0.929, test=0.885), total=   0.1s\n",
      "[CV] bootstrap=True, max_depth=5, max_features=auto, n_estimators=10 .\n",
      "[CV]  bootstrap=True, max_depth=5, max_features=auto, n_estimators=10, score=(train=0.947, test=0.900), total=   0.1s\n",
      "[CV] bootstrap=True, max_depth=5, max_features=auto, n_estimators=10 .\n",
      "[CV]  bootstrap=True, max_depth=5, max_features=auto, n_estimators=10, score=(train=0.945, test=0.869), total=   0.1s\n",
      "[CV] bootstrap=True, max_depth=5, max_features=log2, n_estimators=5 ..\n",
      "[CV]  bootstrap=True, max_depth=5, max_features=log2, n_estimators=5, score=(train=0.925, test=0.880), total=   0.0s\n",
      "[CV] bootstrap=True, max_depth=5, max_features=log2, n_estimators=5 ..\n",
      "[CV]  bootstrap=True, max_depth=5, max_features=log2, n_estimators=5, score=(train=0.943, test=0.877), total=   0.0s\n",
      "[CV] bootstrap=True, max_depth=5, max_features=log2, n_estimators=5 ..\n",
      "[CV]  bootstrap=True, max_depth=5, max_features=log2, n_estimators=5, score=(train=0.937, test=0.859), total=   0.0s\n",
      "[CV] bootstrap=True, max_depth=5, max_features=log2, n_estimators=6 ..\n",
      "[CV]  bootstrap=True, max_depth=5, max_features=log2, n_estimators=6, score=(train=0.926, test=0.881), total=   0.0s\n",
      "[CV] bootstrap=True, max_depth=5, max_features=log2, n_estimators=6 ..\n",
      "[CV]  bootstrap=True, max_depth=5, max_features=log2, n_estimators=6, score=(train=0.943, test=0.880), total=   0.0s\n",
      "[CV] bootstrap=True, max_depth=5, max_features=log2, n_estimators=6 ..\n",
      "[CV]  bootstrap=True, max_depth=5, max_features=log2, n_estimators=6, score=(train=0.938, test=0.870), total=   0.0s\n",
      "[CV] bootstrap=True, max_depth=5, max_features=log2, n_estimators=7 ..\n",
      "[CV]  bootstrap=True, max_depth=5, max_features=log2, n_estimators=7, score=(train=0.925, test=0.877), total=   0.0s\n",
      "[CV] bootstrap=True, max_depth=5, max_features=log2, n_estimators=7 ..\n",
      "[CV]  bootstrap=True, max_depth=5, max_features=log2, n_estimators=7, score=(train=0.944, test=0.882), total=   0.0s\n",
      "[CV] bootstrap=True, max_depth=5, max_features=log2, n_estimators=7 ..\n",
      "[CV]  bootstrap=True, max_depth=5, max_features=log2, n_estimators=7, score=(train=0.939, test=0.870), total=   0.0s\n",
      "[CV] bootstrap=True, max_depth=5, max_features=log2, n_estimators=8 ..\n",
      "[CV]  bootstrap=True, max_depth=5, max_features=log2, n_estimators=8, score=(train=0.925, test=0.878), total=   0.0s\n",
      "[CV] bootstrap=True, max_depth=5, max_features=log2, n_estimators=8 ..\n",
      "[CV]  bootstrap=True, max_depth=5, max_features=log2, n_estimators=8, score=(train=0.944, test=0.879), total=   0.0s\n",
      "[CV] bootstrap=True, max_depth=5, max_features=log2, n_estimators=8 ..\n",
      "[CV]  bootstrap=True, max_depth=5, max_features=log2, n_estimators=8, score=(train=0.939, test=0.874), total=   0.0s\n",
      "[CV] bootstrap=True, max_depth=5, max_features=log2, n_estimators=9 ..\n",
      "[CV]  bootstrap=True, max_depth=5, max_features=log2, n_estimators=9, score=(train=0.926, test=0.880), total=   0.0s\n",
      "[CV] bootstrap=True, max_depth=5, max_features=log2, n_estimators=9 ..\n",
      "[CV]  bootstrap=True, max_depth=5, max_features=log2, n_estimators=9, score=(train=0.944, test=0.878), total=   0.0s\n",
      "[CV] bootstrap=True, max_depth=5, max_features=log2, n_estimators=9 ..\n",
      "[CV]  bootstrap=True, max_depth=5, max_features=log2, n_estimators=9, score=(train=0.939, test=0.876), total=   0.0s\n",
      "[CV] bootstrap=True, max_depth=5, max_features=log2, n_estimators=10 .\n",
      "[CV]  bootstrap=True, max_depth=5, max_features=log2, n_estimators=10, score=(train=0.926, test=0.880), total=   0.0s\n",
      "[CV] bootstrap=True, max_depth=5, max_features=log2, n_estimators=10 .\n",
      "[CV]  bootstrap=True, max_depth=5, max_features=log2, n_estimators=10, score=(train=0.944, test=0.877), total=   0.0s\n",
      "[CV] bootstrap=True, max_depth=5, max_features=log2, n_estimators=10 .\n",
      "[CV]  bootstrap=True, max_depth=5, max_features=log2, n_estimators=10, score=(train=0.939, test=0.876), total=   0.0s\n",
      "[CV] bootstrap=True, max_depth=10, max_features=auto, n_estimators=5 .\n",
      "[CV]  bootstrap=True, max_depth=10, max_features=auto, n_estimators=5, score=(train=0.972, test=0.852), total=   0.0s\n",
      "[CV] bootstrap=True, max_depth=10, max_features=auto, n_estimators=5 .\n",
      "[CV]  bootstrap=True, max_depth=10, max_features=auto, n_estimators=5, score=(train=0.983, test=0.881), total=   0.0s\n",
      "[CV] bootstrap=True, max_depth=10, max_features=auto, n_estimators=5 .\n",
      "[CV]  bootstrap=True, max_depth=10, max_features=auto, n_estimators=5, score=(train=0.981, test=0.778), total=   0.0s\n",
      "[CV] bootstrap=True, max_depth=10, max_features=auto, n_estimators=6 .\n",
      "[CV]  bootstrap=True, max_depth=10, max_features=auto, n_estimators=6, score=(train=0.973, test=0.853), total=   0.0s\n",
      "[CV] bootstrap=True, max_depth=10, max_features=auto, n_estimators=6 .\n",
      "[CV]  bootstrap=True, max_depth=10, max_features=auto, n_estimators=6, score=(train=0.983, test=0.879), total=   0.0s\n",
      "[CV] bootstrap=True, max_depth=10, max_features=auto, n_estimators=6 .\n",
      "[CV]  bootstrap=True, max_depth=10, max_features=auto, n_estimators=6, score=(train=0.981, test=0.782), total=   0.0s\n",
      "[CV] bootstrap=True, max_depth=10, max_features=auto, n_estimators=7 .\n",
      "[CV]  bootstrap=True, max_depth=10, max_features=auto, n_estimators=7, score=(train=0.973, test=0.854), total=   0.1s\n",
      "[CV] bootstrap=True, max_depth=10, max_features=auto, n_estimators=7 .\n",
      "[CV]  bootstrap=True, max_depth=10, max_features=auto, n_estimators=7, score=(train=0.984, test=0.881), total=   0.1s\n",
      "[CV] bootstrap=True, max_depth=10, max_features=auto, n_estimators=7 .\n",
      "[CV]  bootstrap=True, max_depth=10, max_features=auto, n_estimators=7, score=(train=0.982, test=0.782), total=   0.1s\n",
      "[CV] bootstrap=True, max_depth=10, max_features=auto, n_estimators=8 .\n",
      "[CV]  bootstrap=True, max_depth=10, max_features=auto, n_estimators=8, score=(train=0.973, test=0.856), total=   0.1s\n",
      "[CV] bootstrap=True, max_depth=10, max_features=auto, n_estimators=8 .\n",
      "[CV]  bootstrap=True, max_depth=10, max_features=auto, n_estimators=8, score=(train=0.984, test=0.884), total=   0.1s\n",
      "[CV] bootstrap=True, max_depth=10, max_features=auto, n_estimators=8 .\n",
      "[CV]  bootstrap=True, max_depth=10, max_features=auto, n_estimators=8, score=(train=0.982, test=0.787), total=   0.1s\n",
      "[CV] bootstrap=True, max_depth=10, max_features=auto, n_estimators=9 .\n",
      "[CV]  bootstrap=True, max_depth=10, max_features=auto, n_estimators=9, score=(train=0.973, test=0.858), total=   0.1s\n",
      "[CV] bootstrap=True, max_depth=10, max_features=auto, n_estimators=9 .\n",
      "[CV]  bootstrap=True, max_depth=10, max_features=auto, n_estimators=9, score=(train=0.984, test=0.882), total=   0.1s\n",
      "[CV] bootstrap=True, max_depth=10, max_features=auto, n_estimators=9 .\n",
      "[CV]  bootstrap=True, max_depth=10, max_features=auto, n_estimators=9, score=(train=0.982, test=0.783), total=   0.1s\n",
      "[CV] bootstrap=True, max_depth=10, max_features=auto, n_estimators=10 \n"
     ]
    },
    {
     "name": "stdout",
     "output_type": "stream",
     "text": [
      "[CV]  bootstrap=True, max_depth=10, max_features=auto, n_estimators=10, score=(train=0.973, test=0.858), total=   0.1s\n",
      "[CV] bootstrap=True, max_depth=10, max_features=auto, n_estimators=10 \n",
      "[CV]  bootstrap=True, max_depth=10, max_features=auto, n_estimators=10, score=(train=0.984, test=0.883), total=   0.1s\n",
      "[CV] bootstrap=True, max_depth=10, max_features=auto, n_estimators=10 \n",
      "[CV]  bootstrap=True, max_depth=10, max_features=auto, n_estimators=10, score=(train=0.982, test=0.789), total=   0.1s\n",
      "[CV] bootstrap=True, max_depth=10, max_features=log2, n_estimators=5 .\n",
      "[CV]  bootstrap=True, max_depth=10, max_features=log2, n_estimators=5, score=(train=0.968, test=0.863), total=   0.0s\n",
      "[CV] bootstrap=True, max_depth=10, max_features=log2, n_estimators=5 .\n",
      "[CV]  bootstrap=True, max_depth=10, max_features=log2, n_estimators=5, score=(train=0.977, test=0.891), total=   0.0s\n",
      "[CV] bootstrap=True, max_depth=10, max_features=log2, n_estimators=5 .\n",
      "[CV]  bootstrap=True, max_depth=10, max_features=log2, n_estimators=5, score=(train=0.977, test=0.845), total=   0.0s\n",
      "[CV] bootstrap=True, max_depth=10, max_features=log2, n_estimators=6 .\n",
      "[CV]  bootstrap=True, max_depth=10, max_features=log2, n_estimators=6, score=(train=0.969, test=0.865), total=   0.0s\n",
      "[CV] bootstrap=True, max_depth=10, max_features=log2, n_estimators=6 .\n",
      "[CV]  bootstrap=True, max_depth=10, max_features=log2, n_estimators=6, score=(train=0.978, test=0.891), total=   0.0s\n",
      "[CV] bootstrap=True, max_depth=10, max_features=log2, n_estimators=6 .\n",
      "[CV]  bootstrap=True, max_depth=10, max_features=log2, n_estimators=6, score=(train=0.978, test=0.834), total=   0.0s\n",
      "[CV] bootstrap=True, max_depth=10, max_features=log2, n_estimators=7 .\n",
      "[CV]  bootstrap=True, max_depth=10, max_features=log2, n_estimators=7, score=(train=0.970, test=0.865), total=   0.0s\n",
      "[CV] bootstrap=True, max_depth=10, max_features=log2, n_estimators=7 .\n",
      "[CV]  bootstrap=True, max_depth=10, max_features=log2, n_estimators=7, score=(train=0.979, test=0.892), total=   0.0s\n",
      "[CV] bootstrap=True, max_depth=10, max_features=log2, n_estimators=7 .\n",
      "[CV]  bootstrap=True, max_depth=10, max_features=log2, n_estimators=7, score=(train=0.978, test=0.839), total=   0.0s\n",
      "[CV] bootstrap=True, max_depth=10, max_features=log2, n_estimators=8 .\n",
      "[CV]  bootstrap=True, max_depth=10, max_features=log2, n_estimators=8, score=(train=0.970, test=0.864), total=   0.0s\n",
      "[CV] bootstrap=True, max_depth=10, max_features=log2, n_estimators=8 .\n",
      "[CV]  bootstrap=True, max_depth=10, max_features=log2, n_estimators=8, score=(train=0.979, test=0.893), total=   0.0s\n",
      "[CV] bootstrap=True, max_depth=10, max_features=log2, n_estimators=8 .\n",
      "[CV]  bootstrap=True, max_depth=10, max_features=log2, n_estimators=8, score=(train=0.979, test=0.837), total=   0.0s\n",
      "[CV] bootstrap=True, max_depth=10, max_features=log2, n_estimators=9 .\n",
      "[CV]  bootstrap=True, max_depth=10, max_features=log2, n_estimators=9, score=(train=0.971, test=0.864), total=   0.1s\n",
      "[CV] bootstrap=True, max_depth=10, max_features=log2, n_estimators=9 .\n",
      "[CV]  bootstrap=True, max_depth=10, max_features=log2, n_estimators=9, score=(train=0.979, test=0.891), total=   0.0s\n",
      "[CV] bootstrap=True, max_depth=10, max_features=log2, n_estimators=9 .\n",
      "[CV]  bootstrap=True, max_depth=10, max_features=log2, n_estimators=9, score=(train=0.979, test=0.840), total=   0.1s\n",
      "[CV] bootstrap=True, max_depth=10, max_features=log2, n_estimators=10 \n",
      "[CV]  bootstrap=True, max_depth=10, max_features=log2, n_estimators=10, score=(train=0.971, test=0.865), total=   0.1s\n",
      "[CV] bootstrap=True, max_depth=10, max_features=log2, n_estimators=10 \n",
      "[CV]  bootstrap=True, max_depth=10, max_features=log2, n_estimators=10, score=(train=0.979, test=0.893), total=   0.1s\n",
      "[CV] bootstrap=True, max_depth=10, max_features=log2, n_estimators=10 \n",
      "[CV]  bootstrap=True, max_depth=10, max_features=log2, n_estimators=10, score=(train=0.979, test=0.842), total=   0.1s\n",
      "[CV] bootstrap=True, max_depth=None, max_features=auto, n_estimators=5 \n",
      "[CV]  bootstrap=True, max_depth=None, max_features=auto, n_estimators=5, score=(train=0.987, test=0.847), total=   0.1s\n",
      "[CV] bootstrap=True, max_depth=None, max_features=auto, n_estimators=5 \n",
      "[CV]  bootstrap=True, max_depth=None, max_features=auto, n_estimators=5, score=(train=0.992, test=0.857), total=   0.1s\n",
      "[CV] bootstrap=True, max_depth=None, max_features=auto, n_estimators=5 \n",
      "[CV]  bootstrap=True, max_depth=None, max_features=auto, n_estimators=5, score=(train=0.991, test=0.776), total=   0.1s\n",
      "[CV] bootstrap=True, max_depth=None, max_features=auto, n_estimators=6 \n",
      "[CV]  bootstrap=True, max_depth=None, max_features=auto, n_estimators=6, score=(train=0.988, test=0.848), total=   0.1s\n",
      "[CV] bootstrap=True, max_depth=None, max_features=auto, n_estimators=6 \n",
      "[CV]  bootstrap=True, max_depth=None, max_features=auto, n_estimators=6, score=(train=0.992, test=0.860), total=   0.1s\n",
      "[CV] bootstrap=True, max_depth=None, max_features=auto, n_estimators=6 \n",
      "[CV]  bootstrap=True, max_depth=None, max_features=auto, n_estimators=6, score=(train=0.992, test=0.778), total=   0.1s\n",
      "[CV] bootstrap=True, max_depth=None, max_features=auto, n_estimators=7 \n",
      "[CV]  bootstrap=True, max_depth=None, max_features=auto, n_estimators=7, score=(train=0.989, test=0.852), total=   0.1s\n",
      "[CV] bootstrap=True, max_depth=None, max_features=auto, n_estimators=7 \n",
      "[CV]  bootstrap=True, max_depth=None, max_features=auto, n_estimators=7, score=(train=0.993, test=0.865), total=   0.1s\n",
      "[CV] bootstrap=True, max_depth=None, max_features=auto, n_estimators=7 \n",
      "[CV]  bootstrap=True, max_depth=None, max_features=auto, n_estimators=7, score=(train=0.993, test=0.778), total=   0.1s\n",
      "[CV] bootstrap=True, max_depth=None, max_features=auto, n_estimators=8 \n",
      "[CV]  bootstrap=True, max_depth=None, max_features=auto, n_estimators=8, score=(train=0.990, test=0.853), total=   0.1s\n",
      "[CV] bootstrap=True, max_depth=None, max_features=auto, n_estimators=8 \n",
      "[CV]  bootstrap=True, max_depth=None, max_features=auto, n_estimators=8, score=(train=0.993, test=0.864), total=   0.1s\n",
      "[CV] bootstrap=True, max_depth=None, max_features=auto, n_estimators=8 \n",
      "[CV]  bootstrap=True, max_depth=None, max_features=auto, n_estimators=8, score=(train=0.993, test=0.780), total=   0.1s\n",
      "[CV] bootstrap=True, max_depth=None, max_features=auto, n_estimators=9 \n",
      "[CV]  bootstrap=True, max_depth=None, max_features=auto, n_estimators=9, score=(train=0.990, test=0.854), total=   0.1s\n",
      "[CV] bootstrap=True, max_depth=None, max_features=auto, n_estimators=9 \n",
      "[CV]  bootstrap=True, max_depth=None, max_features=auto, n_estimators=9, score=(train=0.993, test=0.863), total=   0.1s\n",
      "[CV] bootstrap=True, max_depth=None, max_features=auto, n_estimators=9 \n",
      "[CV]  bootstrap=True, max_depth=None, max_features=auto, n_estimators=9, score=(train=0.993, test=0.775), total=   0.1s\n",
      "[CV] bootstrap=True, max_depth=None, max_features=auto, n_estimators=10 \n",
      "[CV]  bootstrap=True, max_depth=None, max_features=auto, n_estimators=10, score=(train=0.990, test=0.854), total=   0.1s\n",
      "[CV] bootstrap=True, max_depth=None, max_features=auto, n_estimators=10 \n",
      "[CV]  bootstrap=True, max_depth=None, max_features=auto, n_estimators=10, score=(train=0.993, test=0.865), total=   0.1s\n",
      "[CV] bootstrap=True, max_depth=None, max_features=auto, n_estimators=10 \n",
      "[CV]  bootstrap=True, max_depth=None, max_features=auto, n_estimators=10, score=(train=0.994, test=0.780), total=   0.1s\n",
      "[CV] bootstrap=True, max_depth=None, max_features=log2, n_estimators=5 \n",
      "[CV]  bootstrap=True, max_depth=None, max_features=log2, n_estimators=5, score=(train=0.986, test=0.869), total=   0.0s\n",
      "[CV] bootstrap=True, max_depth=None, max_features=log2, n_estimators=5 \n",
      "[CV]  bootstrap=True, max_depth=None, max_features=log2, n_estimators=5, score=(train=0.990, test=0.869), total=   0.0s\n",
      "[CV] bootstrap=True, max_depth=None, max_features=log2, n_estimators=5 \n",
      "[CV]  bootstrap=True, max_depth=None, max_features=log2, n_estimators=5, score=(train=0.989, test=0.829), total=   0.0s\n",
      "[CV] bootstrap=True, max_depth=None, max_features=log2, n_estimators=6 \n",
      "[CV]  bootstrap=True, max_depth=None, max_features=log2, n_estimators=6, score=(train=0.987, test=0.869), total=   0.0s\n",
      "[CV] bootstrap=True, max_depth=None, max_features=log2, n_estimators=6 \n"
     ]
    },
    {
     "name": "stdout",
     "output_type": "stream",
     "text": [
      "[CV]  bootstrap=True, max_depth=None, max_features=log2, n_estimators=6, score=(train=0.990, test=0.872), total=   0.0s\n",
      "[CV] bootstrap=True, max_depth=None, max_features=log2, n_estimators=6 \n",
      "[CV]  bootstrap=True, max_depth=None, max_features=log2, n_estimators=6, score=(train=0.990, test=0.840), total=   0.0s\n",
      "[CV] bootstrap=True, max_depth=None, max_features=log2, n_estimators=7 \n",
      "[CV]  bootstrap=True, max_depth=None, max_features=log2, n_estimators=7, score=(train=0.988, test=0.868), total=   0.1s\n",
      "[CV] bootstrap=True, max_depth=None, max_features=log2, n_estimators=7 \n",
      "[CV]  bootstrap=True, max_depth=None, max_features=log2, n_estimators=7, score=(train=0.991, test=0.875), total=   0.1s\n",
      "[CV] bootstrap=True, max_depth=None, max_features=log2, n_estimators=7 \n",
      "[CV]  bootstrap=True, max_depth=None, max_features=log2, n_estimators=7, score=(train=0.991, test=0.847), total=   0.1s\n",
      "[CV] bootstrap=True, max_depth=None, max_features=log2, n_estimators=8 \n",
      "[CV]  bootstrap=True, max_depth=None, max_features=log2, n_estimators=8, score=(train=0.989, test=0.868), total=   0.1s\n",
      "[CV] bootstrap=True, max_depth=None, max_features=log2, n_estimators=8 \n",
      "[CV]  bootstrap=True, max_depth=None, max_features=log2, n_estimators=8, score=(train=0.991, test=0.880), total=   0.1s\n",
      "[CV] bootstrap=True, max_depth=None, max_features=log2, n_estimators=8 \n",
      "[CV]  bootstrap=True, max_depth=None, max_features=log2, n_estimators=8, score=(train=0.991, test=0.847), total=   0.1s\n",
      "[CV] bootstrap=True, max_depth=None, max_features=log2, n_estimators=9 \n",
      "[CV]  bootstrap=True, max_depth=None, max_features=log2, n_estimators=9, score=(train=0.989, test=0.870), total=   0.1s\n",
      "[CV] bootstrap=True, max_depth=None, max_features=log2, n_estimators=9 \n",
      "[CV]  bootstrap=True, max_depth=None, max_features=log2, n_estimators=9, score=(train=0.992, test=0.878), total=   0.1s\n",
      "[CV] bootstrap=True, max_depth=None, max_features=log2, n_estimators=9 \n",
      "[CV]  bootstrap=True, max_depth=None, max_features=log2, n_estimators=9, score=(train=0.992, test=0.848), total=   0.1s\n",
      "[CV] bootstrap=True, max_depth=None, max_features=log2, n_estimators=10 \n",
      "[CV]  bootstrap=True, max_depth=None, max_features=log2, n_estimators=10, score=(train=0.990, test=0.869), total=   0.1s\n",
      "[CV] bootstrap=True, max_depth=None, max_features=log2, n_estimators=10 \n",
      "[CV]  bootstrap=True, max_depth=None, max_features=log2, n_estimators=10, score=(train=0.992, test=0.880), total=   0.1s\n",
      "[CV] bootstrap=True, max_depth=None, max_features=log2, n_estimators=10 \n",
      "[CV]  bootstrap=True, max_depth=None, max_features=log2, n_estimators=10, score=(train=0.992, test=0.847), total=   0.1s\n"
     ]
    },
    {
     "name": "stderr",
     "output_type": "stream",
     "text": [
      "[Parallel(n_jobs=1)]: Done 108 out of 108 | elapsed:    6.1s finished\n"
     ]
    },
    {
     "data": {
      "text/plain": [
       "GridSearchCV(cv=3, estimator=RandomForestRegressor(random_state=1), n_jobs=1,\n",
       "             param_grid={'bootstrap': [True], 'max_depth': [5, 10, None],\n",
       "                         'max_features': ['auto', 'log2'],\n",
       "                         'n_estimators': [5, 6, 7, 8, 9, 10]},\n",
       "             return_train_score=True, verbose=3)"
      ]
     },
     "execution_count": 7,
     "metadata": {},
     "output_type": "execute_result"
    }
   ],
   "source": [
    "param_grid = {  \n",
    "    'bootstrap': [True], \n",
    "    'max_depth': [5, 10, None], \n",
    "    'max_features': ['auto', 'log2'], \n",
    "    'n_estimators': [5, 6, 7, 8, 9, 10]\n",
    "}\n",
    "\n",
    "rfr = RandomForestRegressor(random_state = 1)\n",
    "\n",
    "grid = GridSearchCV(estimator = rfr, param_grid = param_grid, \n",
    "                          cv = 3, n_jobs = 1, verbose = 3, return_train_score=True)\n",
    "\n",
    "grid.fit(X_wind_train, y_wind_train)"
   ]
  },
  {
   "cell_type": "code",
   "execution_count": 8,
   "metadata": {},
   "outputs": [
    {
     "name": "stdout",
     "output_type": "stream",
     "text": [
      "{'bootstrap': True, 'max_depth': 5, 'max_features': 'auto', 'n_estimators': 7}\n",
      "RandomForestRegressor(max_depth=5, n_estimators=7, random_state=1)\n"
     ]
    }
   ],
   "source": [
    "# print best parameter after tuning\n",
    "print(grid.best_params_)\n",
    "  \n",
    "# print how our model looks after hyper-parameter tuning\n",
    "print(grid.best_estimator_)"
   ]
  },
  {
   "cell_type": "markdown",
   "metadata": {},
   "source": [
    "## Running predictions on the best model decided and Plotting them side by side"
   ]
  },
  {
   "cell_type": "code",
   "execution_count": 9,
   "metadata": {},
   "outputs": [
    {
     "data": {
      "image/png": "[encoded data removed]",
      "text/plain": [
       "<Figure size 432x288 with 1 Axes>"
      ]
     },
     "metadata": {
      "needs_background": "light"
     },
     "output_type": "display_data"
    }
   ],
   "source": [
    "train_wind_pred = grid.predict(X_wind_train)\n",
    "test_wind_pred = grid.predict(X_wind_test)\n",
    "\n",
    "df = thesis_dataset[['DE_wind_generation_actual']]\n",
    "\n",
    "train_df = train[['DE_wind_generation_actual']]\n",
    "train_df.loc[:, 'DE_wind_generation_actual'] = train_wind_pred\n",
    "\n",
    "test_df = test[['DE_wind_generation_actual']]\n",
    "test_df.loc[:, 'DE_wind_generation_actual'] = test_wind_pred\n",
    "\n",
    "# Plot all predictions\n",
    "inversetransform, =plt.plot(df, label = 'Actual')\n",
    "trainpredx, =plt.plot(train_df, color='orange', label = 'Train')\n",
    "testpredx, =plt.plot(test_df, color='green', label = 'Test')\n",
    "plt.xlabel('Date')\n",
    "plt.ylabel('wind Output')\n",
    "plt.legend(loc=\"upper right\")\n",
    "plt.title(\"Predicted vs. Actual wind Generation\")\n",
    "plt.show()"
   ]
  },
  {
   "cell_type": "markdown",
   "metadata": {},
   "source": [
    "## Regression Metrics for Wind Data"
   ]
  },
  {
   "cell_type": "code",
   "execution_count": 10,
   "metadata": {},
   "outputs": [
    {
     "data": {
      "text/html": [
       "<div>\n",
       "<style scoped>\n",
       "    .dataframe tbody tr th:only-of-type {\n",
       "        vertical-align: middle;\n",
       "    }\n",
       "\n",
       "    .dataframe tbody tr th {\n",
       "        vertical-align: top;\n",
       "    }\n",
       "\n",
       "    .dataframe thead th {\n",
       "        text-align: right;\n",
       "    }\n",
       "</style>\n",
       "<table border=\"1\" class=\"dataframe\">\n",
       "  <thead>\n",
       "    <tr style=\"text-align: right;\">\n",
       "      <th></th>\n",
       "      <th>MAE</th>\n",
       "      <th>MSE</th>\n",
       "      <th>RMSE</th>\n",
       "      <th>RMSLE</th>\n",
       "      <th>R2</th>\n",
       "    </tr>\n",
       "    <tr>\n",
       "      <th>model</th>\n",
       "      <th></th>\n",
       "      <th></th>\n",
       "      <th></th>\n",
       "      <th></th>\n",
       "      <th></th>\n",
       "    </tr>\n",
       "  </thead>\n",
       "  <tbody>\n",
       "    <tr>\n",
       "      <th>rfr</th>\n",
       "      <td>1683.893075</td>\n",
       "      <td>2323.316269</td>\n",
       "      <td>48.200791</td>\n",
       "      <td>3.875375</td>\n",
       "      <td>0.905068</td>\n",
       "    </tr>\n",
       "  </tbody>\n",
       "</table>\n",
       "</div>"
      ],
      "text/plain": [
       "               MAE          MSE       RMSE     RMSLE        R2\n",
       "model                                                         \n",
       "rfr    1683.893075  2323.316269  48.200791  3.875375  0.905068"
      ]
     },
     "execution_count": 10,
     "metadata": {},
     "output_type": "execute_result"
    }
   ],
   "source": [
    "metrics('rfr', test[['DE_wind_generation_actual']], test_wind_pred)"
   ]
  }
 ],
 "metadata": {
  "kernelspec": {
   "display_name": "Python 3",
   "language": "python",
   "name": "python3"
  },
  "language_info": {
   "codemirror_mode": {
    "name": "ipython",
    "version": 3
   },
   "file_extension": ".py",
   "mimetype": "text/x-python",
   "name": "python",
   "nbconvert_exporter": "python",
   "pygments_lexer": "ipython3",
   "version": "3.8.3"
  }
 },
 "nbformat": 4,
 "nbformat_minor": 4
}
