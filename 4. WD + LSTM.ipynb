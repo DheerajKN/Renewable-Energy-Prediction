{
 "cells": [
  {
   "cell_type": "markdown",
   "metadata": {},
   "source": [
    "# A Novel Deep Learning Approach for Wind Power Forecasting Based on WD-LSTM Model"
   ]
  },
  {
   "cell_type": "markdown",
   "metadata": {},
   "source": [
    "## Import all the needed packages"
   ]
  },
  {
   "cell_type": "code",
   "execution_count": 1,
   "metadata": {},
   "outputs": [],
   "source": [
    "# Basic Data Science Packages\n",
    "import numpy as np\n",
    "import pandas as pd\n",
    "\n",
    "#TensorFlow packages required for building CNN + LSTM model\n",
    "import tensorflow as tf\n",
    "from tensorflow import keras\n",
    "from tensorflow.keras.layers import Conv1D, BatchNormalization, Input, Dense, Flatten, LSTM, Reshape, TimeDistributed\n",
    "from tensorflow.keras.models import Model\n",
    "\n",
    "#Plotting graph\n",
    "import matplotlib.pyplot as plt\n",
    "\n",
    "#Plotting Keras Model\n",
    "import keras.utils.vis_utils\n",
    "from importlib import reload\n",
    "reload(keras.utils.vis_utils)\n",
    "\n",
    "from keras.utils.vis_utils import plot_model\n",
    "\n",
    "from utility_functions import metrics\n",
    "\n",
    "import warnings\n",
    "warnings.filterwarnings(\"ignore\")"
   ]
  },
  {
   "cell_type": "markdown",
   "metadata": {},
   "source": [
    "## Performing Wavelength Decomposition"
   ]
  },
  {
   "cell_type": "code",
   "execution_count": 2,
   "metadata": {},
   "outputs": [
    {
     "data": {
      "text/plain": [
       "(array([5.65685425, 7.39923721, 0.22414387, 3.33677403, 5.85561413,\n",
       "        3.33677403, 5.85561413, 3.33677403, 5.85561413, 3.33677403,\n",
       "        5.85561413, 3.33677403, 5.85561413, 3.33677403, 5.85561413,\n",
       "        3.33677403, 7.77817459]),\n",
       " array([-2.44948974, -1.60368225, -4.44140056, -0.41361256, -5.95034847,\n",
       "        -0.41361256, -5.95034847, -0.41361256, -5.95034847, -0.41361256,\n",
       "        -5.95034847, -0.41361256, -5.95034847, -0.41361256, -5.95034847,\n",
       "        -0.41361256,  1.22474487]))"
      ]
     },
     "execution_count": 2,
     "metadata": {},
     "output_type": "execute_result"
    }
   ],
   "source": [
    "import pywt\n",
    "x = [3, 7, 1, 1, -2, 5, 4, 6, -2, 5, 4, 6, -2, 5, 4, 6, -2, 5, 4, 6, -2, 5, 4, 6, -2, 5, 4, 6, -2, 5, 4, 6]\n",
    "pywt.dwt(x, 'db2')"
   ]
  },
  {
   "cell_type": "code",
   "execution_count": 3,
   "metadata": {},
   "outputs": [
    {
     "name": "stdout",
     "output_type": "stream",
     "text": [
      "32\n"
     ]
    },
    {
     "data": {
      "text/plain": [
       "17"
      ]
     },
     "execution_count": 3,
     "metadata": {},
     "output_type": "execute_result"
    }
   ],
   "source": [
    "print(len(x))\n",
    "len(pywt.dwt(x, 'db2')[1])"
   ]
  },
  {
   "cell_type": "code",
   "execution_count": 12,
   "metadata": {},
   "outputs": [
    {
     "name": "stdout",
     "output_type": "stream",
     "text": [
      "Wavelet db3\n",
      "  Family name:    Daubechies\n",
      "  Short name:     db\n",
      "  Filters length: 6\n",
      "  Orthogonal:     True\n",
      "  Biorthogonal:   True\n",
      "  Symmetry:       asymmetric\n",
      "  DWT:            True\n",
      "  CWT:            False\n"
     ]
    }
   ],
   "source": [
    "import pywt\n",
    "wavelet = pywt.Wavelet('db3')\n",
    "print(wavelet)"
   ]
  },
  {
   "cell_type": "code",
   "execution_count": 10,
   "metadata": {},
   "outputs": [
    {
     "data": {
      "text/plain": [
       "[array([5.65685425, 7.39923721, 0.22414387, 3.33677403, 7.77817459]),\n",
       " array([-2.44948974, -1.60368225, -4.44140056, -0.41361256,  1.22474487])]"
      ]
     },
     "execution_count": 10,
     "metadata": {},
     "output_type": "execute_result"
    }
   ],
   "source": [
    "x = [3, 7, 1, 1, -2, 5, 4, 6]\n",
    "db2 = pywt.Wavelet('db2')\n",
    "X = pywt.wavedec(x, db2)\n",
    "X"
   ]
  },
  {
   "cell_type": "code",
   "execution_count": 6,
   "metadata": {},
   "outputs": [
    {
     "data": {
      "text/plain": [
       "[array([108.42189839, 108.48005619, 106.57278601, 113.69667873,\n",
       "        121.20902534]),\n",
       " array([ 0.01138871, -2.45274748,  2.93540905, -1.77828066,  1.28423038]),\n",
       " array([-0.00668479, -1.86002085,  2.2189208 , -1.34506405,  0.99284889]),\n",
       " array([ 8.39805761e-04, -1.41408986e+00,  1.67441608e+00, -1.00804929e+00,\n",
       "         7.46883270e-01]),\n",
       " array([ 0.06754315, -0.89705862,  1.28987116, -0.88619148,  0.4258358 ]),\n",
       " array([-0.1742078 , -0.96806557,  1.05471817, -0.65321314,  0.74076835]),\n",
       " array([ 0.50818811,  0.3891746 ,  0.98511537, -1.30479634, -0.57768174]),\n",
       " array([-0.31575022,  0.67321982,  1.73179787, -2.73248675,  0.64321928]),\n",
       " array([ 0.88547292,  3.74601388,  3.77237524, -7.25545535, -1.1484067 ]),\n",
       " array([-0.42770133,  3.72423411,  0.48210099,  1.06367045, -5.0083641 ]),\n",
       " array([-2.11206142, -2.64704675, -3.16825651, -0.67715519,  0.56811154,\n",
       "         2.70377533])]"
      ]
     },
     "execution_count": 6,
     "metadata": {},
     "output_type": "execute_result"
    }
   ],
   "source": [
    "X2 = pywt.wavedec(x, db2, level=10)\n",
    "X2"
   ]
  },
  {
   "cell_type": "code",
   "execution_count": null,
   "metadata": {},
   "outputs": [],
   "source": []
  }
 ],
 "metadata": {
  "kernelspec": {
   "display_name": "Python 3",
   "language": "python",
   "name": "python3"
  },
  "language_info": {
   "codemirror_mode": {
    "name": "ipython",
    "version": 3
   },
   "file_extension": ".py",
   "mimetype": "text/x-python",
   "name": "python",
   "nbconvert_exporter": "python",
   "pygments_lexer": "ipython3",
   "version": "3.8.3"
  }
 },
 "nbformat": 4,
 "nbformat_minor": 4
}
