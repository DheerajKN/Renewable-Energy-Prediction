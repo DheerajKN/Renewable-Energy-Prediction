{
 "cells": [
  {
   "cell_type": "markdown",
   "metadata": {},
   "source": [
    "# A Novel Deep Learning Approach for Wind Power Forecasting Based on WD-LSTM Model"
   ]
  },
  {
   "cell_type": "markdown",
   "metadata": {},
   "source": [
    "## Import all the needed packages"
   ]
  },
  {
   "cell_type": "code",
   "execution_count": 1,
   "metadata": {},
   "outputs": [],
   "source": [
    "# Basic Data Science Packages\n",
    "import numpy as np\n",
    "import pandas as pd\n",
    "\n",
    "#TensorFlow packages required for building CNN + LSTM model\n",
    "import tensorflow as tf\n",
    "from tensorflow import keras\n",
    "from tensorflow.keras.layers import BatchNormalization, Input, Dense, LSTM, Reshape\n",
    "from tensorflow.keras.models import Sequential\n",
    "\n",
    "#Plotting graph\n",
    "import matplotlib.pyplot as plt\n",
    "\n",
    "#Plotting Keras Model\n",
    "from tensorflow.keras.utils import plot_model\n",
    "\n",
    "#Wavelet Decomposition package\n",
    "import pywt\n",
    "\n",
    "#Normalization of data\n",
    "from sklearn.preprocessing import StandardScaler\n",
    "\n",
    "#Utility Module for computing and displaying metrics\n",
    "from utility_functions import metrics\n",
    "\n",
    "import warnings\n",
    "warnings.filterwarnings(\"ignore\")"
   ]
  },
  {
   "cell_type": "markdown",
   "metadata": {},
   "source": [
    "## Performing Wavelet Decomposition"
   ]
  },
  {
   "cell_type": "code",
   "execution_count": 2,
   "metadata": {},
   "outputs": [],
   "source": [
    "db3 = pywt.Wavelet('db3')\n",
    "scaler = StandardScaler()\n",
    "def normalizeAndDecompose(df_input):\n",
    "    df = pd.DataFrame(df_input)\n",
    "    normalized_df =  scaler.fit_transform(df)\n",
    "    decomposed_df = pywt.wavedec2(normalized_df, db3)\n",
    "    normalized_decomposed_df = pd.DataFrame(np.concatenate(decomposed_df))\n",
    "    for index, name in enumerate(df.columns):\n",
    "            df[name] = normalized_decomposed_df[index].values\n",
    "    \n",
    "    return df if isinstance(df_input, pd.DataFrame) else df.squeeze()"
   ]
  },
  {
   "cell_type": "code",
   "execution_count": 3,
   "metadata": {},
   "outputs": [],
   "source": [
    "def inverse_normalizeAndDecompose(df_input):\n",
    "    df = pd.DataFrame(df_input)\n",
    "    return np.concatenate(pywt.wavedec2(scaler.inverse_transform(df), db3))"
   ]
  },
  {
   "cell_type": "markdown",
   "metadata": {},
   "source": [
    "## Import the data and split into Train, Test and Validation\n",
    "- Fetch the first 70% records as train and the rest 15% each as validation and test\n",
    "    - 8711 * 70% = 6097 records from the start (Train)\n",
    "    - 6097 + 1307 = 6098 to 7404 records as (Validation)\n",
    "    - 7404 + 1307 = 7405 to 8711 records as (Test)"
   ]
  },
  {
   "cell_type": "code",
   "execution_count": 4,
   "metadata": {},
   "outputs": [],
   "source": [
    "thesis_dataset = pd.read_csv('data/final_thesis_dataset.csv',parse_dates=[0], index_col=0)\n",
    "\n",
    "#Extracting dataset into train, validation and test sets\n",
    "train = thesis_dataset[:6097]\n",
    "valid = thesis_dataset[6097:7404]\n",
    "test = thesis_dataset[7404:]\n",
    "\n",
    "#Extracting solar and wind X, y columns per set\n",
    "X_solar_train = normalizeAndDecompose(train[['SWTDN', 'SWGDN', 'T']])\n",
    "y_solar_train = normalizeAndDecompose(train['DE_solar_generation_actual'])\n",
    "X_solar_valid = normalizeAndDecompose(valid[['SWTDN', 'SWGDN', 'T']])\n",
    "y_solar_valid = normalizeAndDecompose(valid['DE_solar_generation_actual'])\n",
    "X_solar_test = normalizeAndDecompose(test[['SWTDN', 'SWGDN', 'T']])\n",
    "y_solar_test = normalizeAndDecompose(test['DE_solar_generation_actual'])\n",
    "\n",
    "X_wind_train = normalizeAndDecompose(train[['v1', 'v2', 'v_50m', 'z0']])\n",
    "y_wind_train = normalizeAndDecompose(train['DE_wind_generation_actual'])\n",
    "X_wind_valid = normalizeAndDecompose(valid[['v1', 'v2', 'v_50m', 'z0']])\n",
    "y_wind_valid = normalizeAndDecompose(valid['DE_wind_generation_actual'])\n",
    "X_wind_test = normalizeAndDecompose(test[['v1', 'v2', 'v_50m', 'z0']])\n",
    "y_wind_test = normalizeAndDecompose(test['DE_wind_generation_actual'])"
   ]
  },
  {
   "cell_type": "markdown",
   "metadata": {},
   "source": [
    "## Building the Model using LSTM layer and Fully Connected Layer"
   ]
  },
  {
   "cell_type": "code",
   "execution_count": 5,
   "metadata": {},
   "outputs": [
    {
     "name": "stdout",
     "output_type": "stream",
     "text": [
      "Model: \"sequential\"\n",
      "_________________________________________________________________\n",
      "Layer (type)                 Output Shape              Param #   \n",
      "=================================================================\n",
      "reshape (Reshape)            (None, 3, 1)              0         \n",
      "_________________________________________________________________\n",
      "lstm (LSTM)                  (None, 3, 64)             16896     \n",
      "_________________________________________________________________\n",
      "lstm_1 (LSTM)                (None, 64)                33024     \n",
      "_________________________________________________________________\n",
      "dense (Dense)                (None, 64)                4160      \n",
      "_________________________________________________________________\n",
      "batch_normalization (BatchNo (None, 64)                256       \n",
      "_________________________________________________________________\n",
      "dense_1 (Dense)              (None, 1)                 65        \n",
      "=================================================================\n",
      "Total params: 54,401\n",
      "Trainable params: 54,273\n",
      "Non-trainable params: 128\n",
      "_________________________________________________________________\n"
     ]
    }
   ],
   "source": [
    "solar_model = Sequential()\n",
    "#Mapping to the input size\n",
    "solar_model.add(Input(shape=(3,)))\n",
    "#Reshaping for the RNN Layer to perform\n",
    "solar_model.add(Reshape((-1,1)))\n",
    "#Creating 2 LSTMs with 64 units and relu Activation\n",
    "solar_model.add(LSTM(64, activation = 'relu', input_shape = X_solar_train.shape, return_sequences=True))\n",
    "solar_model.add(LSTM(64, activation = 'relu', return_sequences=False))\n",
    "#Attaching a Dense Layer of the same unit size\n",
    "solar_model.add(Dense(64))\n",
    "#Batch Normalization on the output from the dense layer\n",
    "solar_model.add(BatchNormalization())\n",
    "#Extracting single output using Dense of 1\n",
    "solar_model.add(Dense(1))\n",
    "solar_model.summary()"
   ]
  },
  {
   "cell_type": "markdown",
   "metadata": {},
   "source": [
    "## Compiling the model by passing adam optimizer, loss=MAE"
   ]
  },
  {
   "cell_type": "code",
   "execution_count": 6,
   "metadata": {},
   "outputs": [
    {
     "name": "stdout",
     "output_type": "stream",
     "text": [
      "Epoch 1/15\n",
      "191/191 [==============================] - 10s 41ms/step - loss: 0.3045 - val_loss: 0.6598\n",
      "Epoch 2/15\n",
      "191/191 [==============================] - 3s 14ms/step - loss: 0.2377 - val_loss: 0.5290\n",
      "Epoch 3/15\n",
      "191/191 [==============================] - 1s 5ms/step - loss: 0.2291 - val_loss: 0.4148\n",
      "Epoch 4/15\n",
      "191/191 [==============================] - 1s 5ms/step - loss: 0.2191 - val_loss: 0.2577\n",
      "Epoch 5/15\n",
      "191/191 [==============================] - 2s 13ms/step - loss: 0.2094 - val_loss: 0.1906\n",
      "Epoch 6/15\n",
      "191/191 [==============================] - 3s 13ms/step - loss: 0.2101 - val_loss: 0.2985\n",
      "Epoch 7/15\n",
      "191/191 [==============================] - 2s 13ms/step - loss: 0.2028 - val_loss: 0.1992\n",
      "Epoch 8/15\n",
      "191/191 [==============================] - 2s 13ms/step - loss: 0.1959 - val_loss: 0.2213\n",
      "Epoch 9/15\n",
      "191/191 [==============================] - 2s 8ms/step - loss: 0.2078 - val_loss: 0.1597\n",
      "Epoch 10/15\n",
      "191/191 [==============================] - 1s 3ms/step - loss: 0.2040 - val_loss: 0.2505\n",
      "Epoch 11/15\n",
      "191/191 [==============================] - 1s 5ms/step - loss: 0.1892 - val_loss: 0.1740\n",
      "Epoch 12/15\n",
      "191/191 [==============================] - 1s 6ms/step - loss: 0.1917 - val_loss: 0.2799\n",
      "Epoch 13/15\n",
      "191/191 [==============================] - 1s 4ms/step - loss: 0.1877 - val_loss: 0.1301\n",
      "Epoch 14/15\n",
      "191/191 [==============================] - 1s 3ms/step - loss: 0.1898 - val_loss: 0.2113\n",
      "Epoch 15/15\n",
      "191/191 [==============================] - 1s 3ms/step - loss: 0.1818 - val_loss: 0.2502\n"
     ]
    }
   ],
   "source": [
    "solar_model.compile(optimizer = 'adam', loss = 'mean_absolute_error')\n",
    "history = solar_model.fit(X_solar_train, y_solar_train, epochs = 15, validation_data = (X_solar_valid, y_solar_valid))"
   ]
  },
  {
   "cell_type": "code",
   "execution_count": 7,
   "metadata": {},
   "outputs": [
    {
     "name": "stdout",
     "output_type": "stream",
     "text": [
      "41/41 [==============================] - 0s 1ms/step - loss: 0.2269\n"
     ]
    },
    {
     "data": {
      "text/plain": [
       "0.2269238829612732"
      ]
     },
     "execution_count": 7,
     "metadata": {},
     "output_type": "execute_result"
    }
   ],
   "source": [
    "solar_model.evaluate(X_solar_test, y_solar_test)"
   ]
  },
  {
   "cell_type": "markdown",
   "metadata": {},
   "source": [
    "### Plotting the Keras model"
   ]
  },
  {
   "cell_type": "code",
   "execution_count": 8,
   "metadata": {},
   "outputs": [
    {
     "data": {
      "image/png": "[encoded data removed]",
      "text/plain": [
       "<IPython.core.display.Image object>"
      ]
     },
     "execution_count": 8,
     "metadata": {},
     "output_type": "execute_result"
    }
   ],
   "source": [
    "plot_model(\n",
    "    solar_model, to_file='figs/4-model.png', show_shapes=False, show_dtype=False,\n",
    "    show_layer_names=True, rankdir='TB', expand_nested=False, dpi=96\n",
    ")"
   ]
  },
  {
   "cell_type": "markdown",
   "metadata": {},
   "source": [
    "## Plotting Model's Loss Metrics over Train and Validation sets for Solar"
   ]
  },
  {
   "cell_type": "code",
   "execution_count": 9,
   "metadata": {},
   "outputs": [
    {
     "data": {
      "image/png": "[encoded data removed]",
      "text/plain": [
       "<Figure size 432x288 with 1 Axes>"
      ]
     },
     "metadata": {
      "needs_background": "light"
     },
     "output_type": "display_data"
    }
   ],
   "source": [
    "plt.plot(history.history['loss'])\n",
    "plt.plot(history.history['val_loss'])\n",
    "plt.title('model loss')\n",
    "plt.ylabel('loss')\n",
    "plt.xlabel('epoch')\n",
    "plt.legend(['train', 'validation'], loc='upper left')\n",
    "plt.show()"
   ]
  },
  {
   "cell_type": "markdown",
   "metadata": {},
   "source": [
    "## Plotting Actual vs Predictions on the same plot"
   ]
  },
  {
   "cell_type": "code",
   "execution_count": 10,
   "metadata": {},
   "outputs": [],
   "source": [
    "train_solar_pred = solar_model.predict(X_solar_train)\n",
    "val_solar_pred = solar_model.predict(X_solar_valid)\n",
    "test_solar_pred = solar_model.predict(X_solar_test)"
   ]
  },
  {
   "cell_type": "code",
   "execution_count": 11,
   "metadata": {},
   "outputs": [
    {
     "data": {
      "image/png": "[encoded data removed]",
      "text/plain": [
       "<Figure size 432x288 with 1 Axes>"
      ]
     },
     "metadata": {
      "needs_background": "light"
     },
     "output_type": "display_data"
    }
   ],
   "source": [
    "df = thesis_dataset[['DE_solar_generation_actual']]\n",
    "\n",
    "train_df = train[['DE_solar_generation_actual']]\n",
    "train_df.loc[:, 'DE_solar_generation_actual'] = inverse_normalizeAndDecompose(train_solar_pred)\n",
    "\n",
    "valid_df = valid[['DE_solar_generation_actual']]\n",
    "valid_df.loc[:, 'DE_solar_generation_actual'] = inverse_normalizeAndDecompose(val_solar_pred)\n",
    "\n",
    "test_df = test[['DE_solar_generation_actual']]\n",
    "test_df.loc[:, 'DE_solar_generation_actual'] = inverse_normalizeAndDecompose(test_solar_pred)\n",
    "\n",
    "# Plot all predictions\n",
    "inversetransform, =plt.plot(df, label = 'Actual')\n",
    "train_solar_predx, =plt.plot(train_df, color='orange', label = 'Train')\n",
    "val_solar_predx, =plt.plot(valid_df, color='green', label = 'Validation')\n",
    "test_solar_predx, =plt.plot(test_df, color='black', label = 'Test')\n",
    "plt.xlabel('Date')\n",
    "plt.ylabel('Solar Output')\n",
    "plt.legend(loc=\"upper right\")\n",
    "plt.title(\"Predicted vs. Actual Solar Generation\")\n",
    "plt.show()"
   ]
  },
  {
   "cell_type": "markdown",
   "metadata": {},
   "source": [
    "## Regression Metrics for Solar"
   ]
  },
  {
   "cell_type": "code",
   "execution_count": 12,
   "metadata": {},
   "outputs": [
    {
     "data": {
      "text/html": [
       "<div>\n",
       "<style scoped>\n",
       "    .dataframe tbody tr th:only-of-type {\n",
       "        vertical-align: middle;\n",
       "    }\n",
       "\n",
       "    .dataframe tbody tr th {\n",
       "        vertical-align: top;\n",
       "    }\n",
       "\n",
       "    .dataframe thead th {\n",
       "        text-align: right;\n",
       "    }\n",
       "</style>\n",
       "<table border=\"1\" class=\"dataframe\">\n",
       "  <thead>\n",
       "    <tr style=\"text-align: right;\">\n",
       "      <th></th>\n",
       "      <th>MAE</th>\n",
       "      <th>MSE</th>\n",
       "      <th>RMSE</th>\n",
       "      <th>RMSLE</th>\n",
       "      <th>R2</th>\n",
       "    </tr>\n",
       "    <tr>\n",
       "      <th>model</th>\n",
       "      <th></th>\n",
       "      <th></th>\n",
       "      <th></th>\n",
       "      <th></th>\n",
       "      <th></th>\n",
       "    </tr>\n",
       "  </thead>\n",
       "  <tbody>\n",
       "    <tr>\n",
       "      <th>wd-lstm</th>\n",
       "      <td>12043.074415</td>\n",
       "      <td>13573.933963</td>\n",
       "      <td>116.507227</td>\n",
       "      <td>4.757953</td>\n",
       "      <td>-32.218207</td>\n",
       "    </tr>\n",
       "  </tbody>\n",
       "</table>\n",
       "</div>"
      ],
      "text/plain": [
       "                  MAE           MSE        RMSE     RMSLE         R2\n",
       "model                                                               \n",
       "wd-lstm  12043.074415  13573.933963  116.507227  4.757953 -32.218207"
      ]
     },
     "execution_count": 12,
     "metadata": {},
     "output_type": "execute_result"
    }
   ],
   "source": [
    "metrics('wd-lstm', test[['DE_solar_generation_actual']], inverse_normalizeAndDecompose(test_solar_pred))"
   ]
  },
  {
   "cell_type": "markdown",
   "metadata": {},
   "source": [
    "## Modelling and Fitting the model for Wind Dataset"
   ]
  },
  {
   "cell_type": "code",
   "execution_count": 13,
   "metadata": {},
   "outputs": [
    {
     "name": "stdout",
     "output_type": "stream",
     "text": [
      "Model: \"sequential_1\"\n",
      "_________________________________________________________________\n",
      "Layer (type)                 Output Shape              Param #   \n",
      "=================================================================\n",
      "reshape_1 (Reshape)          (None, 4, 1)              0         \n",
      "_________________________________________________________________\n",
      "lstm_2 (LSTM)                (None, 4, 64)             16896     \n",
      "_________________________________________________________________\n",
      "lstm_3 (LSTM)                (None, 64)                33024     \n",
      "_________________________________________________________________\n",
      "dense_2 (Dense)              (None, 64)                4160      \n",
      "_________________________________________________________________\n",
      "batch_normalization_1 (Batch (None, 64)                256       \n",
      "_________________________________________________________________\n",
      "dense_3 (Dense)              (None, 1)                 65        \n",
      "=================================================================\n",
      "Total params: 54,401\n",
      "Trainable params: 54,273\n",
      "Non-trainable params: 128\n",
      "_________________________________________________________________\n"
     ]
    }
   ],
   "source": [
    "wind_model = Sequential()\n",
    "wind_model.add(Input(shape=(4,)))\n",
    "wind_model.add(Reshape((-1,1)))\n",
    "#Creating 2 LSTMs with 64 units and relu Activation\n",
    "wind_model.add(LSTM(64, activation = 'relu', input_shape = X_wind_train.shape, return_sequences=True))\n",
    "wind_model.add(LSTM(64, activation = 'relu', return_sequences=False))\n",
    "#Attaching a Dense Layer of the same unit size\n",
    "wind_model.add(Dense(64))\n",
    "#Batch Normalization on the output from the dense layer\n",
    "wind_model.add(BatchNormalization())\n",
    "#Extracting single output using Dense of 1\n",
    "wind_model.add(Dense(1))\n",
    "wind_model.summary()"
   ]
  },
  {
   "cell_type": "code",
   "execution_count": 14,
   "metadata": {},
   "outputs": [
    {
     "name": "stdout",
     "output_type": "stream",
     "text": [
      "Epoch 1/15\n",
      "191/191 [==============================] - 3s 5ms/step - loss: 0.2435 - val_loss: 0.8606\n",
      "Epoch 2/15\n",
      "191/191 [==============================] - 1s 3ms/step - loss: 0.1363 - val_loss: 0.7301\n",
      "Epoch 3/15\n",
      "191/191 [==============================] - 1s 3ms/step - loss: 0.1292 - val_loss: 0.3518\n",
      "Epoch 4/15\n",
      "191/191 [==============================] - 1s 3ms/step - loss: 0.1107 - val_loss: 0.1263\n",
      "Epoch 5/15\n",
      "191/191 [==============================] - 1s 3ms/step - loss: 0.1044 - val_loss: 0.0847\n",
      "Epoch 6/15\n",
      "191/191 [==============================] - 1s 3ms/step - loss: 0.1004 - val_loss: 0.0836\n",
      "Epoch 7/15\n",
      "191/191 [==============================] - 1s 3ms/step - loss: 0.1001 - val_loss: 0.1838\n",
      "Epoch 8/15\n",
      "191/191 [==============================] - 1s 3ms/step - loss: 0.0943 - val_loss: 0.0822\n",
      "Epoch 9/15\n",
      "191/191 [==============================] - 1s 3ms/step - loss: 0.0916 - val_loss: 0.1568\n",
      "Epoch 10/15\n",
      "191/191 [==============================] - 1s 3ms/step - loss: 0.1035 - val_loss: 0.1114\n",
      "Epoch 11/15\n",
      "191/191 [==============================] - 1s 3ms/step - loss: 0.1032 - val_loss: 0.1071\n",
      "Epoch 12/15\n",
      "191/191 [==============================] - 1s 3ms/step - loss: 0.1009 - val_loss: 0.1002\n",
      "Epoch 13/15\n",
      "191/191 [==============================] - 1s 4ms/step - loss: 0.0977 - val_loss: 0.1144\n",
      "Epoch 14/15\n",
      "191/191 [==============================] - 1s 3ms/step - loss: 0.1016 - val_loss: 0.0853\n",
      "Epoch 15/15\n",
      "191/191 [==============================] - 1s 4ms/step - loss: 0.0926 - val_loss: 0.1798\n"
     ]
    }
   ],
   "source": [
    "wind_model.compile(optimizer = 'adam', loss = 'mse')\n",
    "history = wind_model.fit(X_wind_train, y_wind_train, validation_data=(X_wind_valid, y_wind_valid), epochs=15)"
   ]
  },
  {
   "cell_type": "code",
   "execution_count": 15,
   "metadata": {},
   "outputs": [
    {
     "name": "stdout",
     "output_type": "stream",
     "text": [
      "41/41 [==============================] - 0s 1ms/step - loss: 0.1668\n"
     ]
    },
    {
     "data": {
      "text/plain": [
       "0.16678451001644135"
      ]
     },
     "execution_count": 15,
     "metadata": {},
     "output_type": "execute_result"
    }
   ],
   "source": [
    "wind_model.evaluate(X_wind_test, y_wind_test)"
   ]
  },
  {
   "cell_type": "markdown",
   "metadata": {},
   "source": [
    "## Model's Loss for Wind Dataset"
   ]
  },
  {
   "cell_type": "code",
   "execution_count": 16,
   "metadata": {},
   "outputs": [
    {
     "data": {
      "image/png": "[encoded data removed]",
      "text/plain": [
       "<Figure size 432x288 with 1 Axes>"
      ]
     },
     "metadata": {
      "needs_background": "light"
     },
     "output_type": "display_data"
    }
   ],
   "source": [
    "plt.plot(history.history['loss'])\n",
    "plt.plot(history.history['val_loss'])\n",
    "plt.title('model loss')\n",
    "plt.ylabel('loss')\n",
    "plt.xlabel('epoch')\n",
    "plt.legend(['train', 'validation'], loc='upper left')\n",
    "plt.show()"
   ]
  },
  {
   "cell_type": "markdown",
   "metadata": {},
   "source": [
    "## Plotting Actual vs Predicted for Wind on same graph"
   ]
  },
  {
   "cell_type": "code",
   "execution_count": 17,
   "metadata": {},
   "outputs": [],
   "source": [
    "train_wind_pred = wind_model.predict(X_wind_train)\n",
    "val_wind_pred = wind_model.predict(X_wind_valid)\n",
    "test_wind_pred = wind_model.predict(X_wind_test)"
   ]
  },
  {
   "cell_type": "code",
   "execution_count": 18,
   "metadata": {},
   "outputs": [
    {
     "data": {
      "image/png": "[encoded data removed]",
      "text/plain": [
       "<Figure size 432x288 with 1 Axes>"
      ]
     },
     "metadata": {
      "needs_background": "light"
     },
     "output_type": "display_data"
    }
   ],
   "source": [
    "df = thesis_dataset[['DE_wind_generation_actual']]\n",
    "\n",
    "train_df = train[['DE_wind_generation_actual']]\n",
    "train_df.loc[:, 'DE_wind_generation_actual'] = inverse_normalizeAndDecompose(train_wind_pred)\n",
    "\n",
    "valid_df = valid[['DE_wind_generation_actual']]\n",
    "valid_df.loc[:, 'DE_wind_generation_actual'] = inverse_normalizeAndDecompose(val_wind_pred)\n",
    "\n",
    "test_df = test[['DE_wind_generation_actual']]\n",
    "test_df.loc[:, 'DE_wind_generation_actual'] = inverse_normalizeAndDecompose(test_wind_pred)\n",
    "\n",
    "# Plot all predictions\n",
    "inversetransform, =plt.plot(df, label = 'Actual')\n",
    "train_wind_predx, =plt.plot(train_df, color='orange', label = 'Train')\n",
    "val_wind_predx, =plt.plot(valid_df, color='green', label = 'Validation')\n",
    "test_wind_predx, =plt.plot(test_df, color='black', label = 'Test')\n",
    "plt.xlabel('Date')\n",
    "plt.ylabel('Wind Output')\n",
    "plt.legend(loc=\"upper right\")\n",
    "plt.title(\"Predicted vs. Actual Wind Generation\")\n",
    "plt.show()"
   ]
  },
  {
   "cell_type": "markdown",
   "metadata": {},
   "source": [
    "### Regression Metrics for Wind"
   ]
  },
  {
   "cell_type": "code",
   "execution_count": 19,
   "metadata": {},
   "outputs": [
    {
     "data": {
      "text/html": [
       "<div>\n",
       "<style scoped>\n",
       "    .dataframe tbody tr th:only-of-type {\n",
       "        vertical-align: middle;\n",
       "    }\n",
       "\n",
       "    .dataframe tbody tr th {\n",
       "        vertical-align: top;\n",
       "    }\n",
       "\n",
       "    .dataframe thead th {\n",
       "        text-align: right;\n",
       "    }\n",
       "</style>\n",
       "<table border=\"1\" class=\"dataframe\">\n",
       "  <thead>\n",
       "    <tr style=\"text-align: right;\">\n",
       "      <th></th>\n",
       "      <th>MAE</th>\n",
       "      <th>MSE</th>\n",
       "      <th>RMSE</th>\n",
       "      <th>RMSLE</th>\n",
       "      <th>R2</th>\n",
       "    </tr>\n",
       "    <tr>\n",
       "      <th>model</th>\n",
       "      <th></th>\n",
       "      <th></th>\n",
       "      <th></th>\n",
       "      <th></th>\n",
       "      <th></th>\n",
       "    </tr>\n",
       "  </thead>\n",
       "  <tbody>\n",
       "    <tr>\n",
       "      <th>wd-lstm</th>\n",
       "      <td>2864.26425</td>\n",
       "      <td>3530.377963</td>\n",
       "      <td>59.416984</td>\n",
       "      <td>4.08458</td>\n",
       "      <td>0.833215</td>\n",
       "    </tr>\n",
       "  </tbody>\n",
       "</table>\n",
       "</div>"
      ],
      "text/plain": [
       "                MAE          MSE       RMSE    RMSLE        R2\n",
       "model                                                         \n",
       "wd-lstm  2864.26425  3530.377963  59.416984  4.08458  0.833215"
      ]
     },
     "execution_count": 19,
     "metadata": {},
     "output_type": "execute_result"
    }
   ],
   "source": [
    "metrics('wd-lstm', test[['DE_wind_generation_actual']], inverse_normalizeAndDecompose(test_wind_pred))"
   ]
  }
 ],
 "metadata": {
  "kernelspec": {
   "display_name": "Python 3",
   "language": "python",
   "name": "python3"
  },
  "language_info": {
   "codemirror_mode": {
    "name": "ipython",
    "version": 3
   },
   "file_extension": ".py",
   "mimetype": "text/x-python",
   "name": "python",
   "nbconvert_exporter": "python",
   "pygments_lexer": "ipython3",
   "version": "3.8.3"
  }
 },
 "nbformat": 4,
 "nbformat_minor": 4
}
